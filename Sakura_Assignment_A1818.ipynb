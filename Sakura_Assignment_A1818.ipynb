{
 "cells": [
  {
   "cell_type": "markdown",
   "metadata": {
    "colab_type": "text",
    "id": "aQTocNTBcQX_"
   },
   "source": [
    "## ID:A1818\n",
    "## Submission Date: 3-3-19"
   ]
  },
  {
   "cell_type": "markdown",
   "metadata": {
    "colab_type": "text",
    "id": "g3SobCWoBR-M"
   },
   "source": [
    "# Entrance Challenge: When Will the Sakura Bloom?"
   ]
  },
  {
   "cell_type": "markdown",
   "metadata": {
    "colab_type": "text",
    "id": "aJ20mLKzBR-S"
   },
   "source": [
    "# 0. Basics of the Sakura Bloom-cycle (5pts total)"
   ]
  },
  {
   "cell_type": "markdown",
   "metadata": {
    "colab_type": "text",
    "id": "zM4tyK4pBR-V"
   },
   "source": [
    "In a year, sakura trees basically go through 4 phases: energy production, hibernation, growth, and of course flowering. These phases\n",
    "roughly follow the seasons, but not exactly. <br>\n",
    "\n",
    "   Production phase： Initial development of the buds（Summer-Fall） <br>\n",
    "   Hibernation phase： Bud growth stops while the tree goes into hibernation（Late Fall-Winter） <br>\n",
    "   Growth phase： Buds once again continue to grow when the tree comes out of its winter hibernation（Late Winter-Spring） <br>\n",
    "   Flowering phase： The buds finally bloom in spring (as climate conditions allow), once they have been able to fully develop.（Spring） <br>\n",
    "    \n",
    "Each year, near the end of winter but before the trees finally bloom, the hibernation period ends. The sakura that rested through the winter once gain become metabolically active, and the buds continue to grow (though we may not immediately notice when this happens.) However, the cycle is not simply clockwork- for example, in places where the temperature is above 20℃ year-round, the trees are unable to hibernate sufficiently, and thus cannot blossom.\n",
    "    \n",
    "In this challenge, we have outlined the basic mechanism by which the sakura reach their eventual bloom-date. We consider building a bloom-date prediction model for the case of sakura in Tokyo, with the data split as follows: <br>\n",
    "    \n",
    "Test years： 1966, 1971, 1985, 1994, and 2008 <br>\n",
    "Training years: 1961 to 2017 (Excluding the test years) <br>\n",
    "    \n",
    "You should fit the model to the data from the training years, then use the model to predict the bloom-date for each of the test years. The 3 models to be applied to the data are described below.\n",
    "    \n"
   ]
  },
  {
   "cell_type": "markdown",
   "metadata": {
    "colab_type": "text",
    "id": "ihNJdwkrBR-d"
   },
   "source": [
    "### Problem 0-1: (5pts)\n",
    "Acquire data of sakura blooming date (桜の開花日) for Tokyo from 1961 to 2018 using the Japanese Meteorological Agency website (気象庁)."
   ]
  },
  {
   "cell_type": "markdown",
   "metadata": {
    "colab_type": "text",
    "id": "sJLPsdx8jOvW"
   },
   "source": [
    "<p><u>Data Acquisition</u>-<br>\n",
    "  The Dates of sakura-blooming were collected from the Japanese Meteorological Agency website. The following links shown below are the source of Sakura bloom-dates in our dataset.<br>From\n",
    "  <li>http://www.data.jma.go.jp/sakura/data/sakura003_01.html</li>To\n",
    "    <li> http://www.data.jma.go.jp/sakura/data/sakura003_06.html</li>The bloom-dates were storred in a CSV file named BloomDate.CSV. The weather-data of Tokyo for the last 51 years were stored Tokyo_en.CSV.  Then both datasets were combined in one CSV file named sakura.CSV that contains the complete information on weather and bloom-dates."
   ]
  },
  {
   "cell_type": "code",
   "execution_count": 0,
   "metadata": {
    "colab": {
     "base_uri": "https://localhost:8080/",
     "height": 122
    },
    "colab_type": "code",
    "id": "woIK6T12GIR5",
    "outputId": "0941e967-4415-4853-e364-361444576d22"
   },
   "outputs": [
    {
     "name": "stdout",
     "output_type": "stream",
     "text": [
      "Go to this URL in a browser: https://accounts.google.com/o/oauth2/auth?client_id=947318989803-6bn6qk8qdgf4n4g3pfee6491hc0brc4i.apps.googleusercontent.com&redirect_uri=urn%3Aietf%3Awg%3Aoauth%3A2.0%3Aoob&scope=email%20https%3A%2F%2Fwww.googleapis.com%2Fauth%2Fdocs.test%20https%3A%2F%2Fwww.googleapis.com%2Fauth%2Fdrive%20https%3A%2F%2Fwww.googleapis.com%2Fauth%2Fdrive.photos.readonly%20https%3A%2F%2Fwww.googleapis.com%2Fauth%2Fpeopleapi.readonly&response_type=code\n",
      "\n",
      "Enter your authorization code:\n",
      "··········\n",
      "Mounted at /content/drive\n"
     ]
    }
   ],
   "source": [
    "#join google-drive to the code\n",
    "from google.colab import drive #to connect google drive to the code\n",
    "drive.mount('/content/drive')"
   ]
  },
  {
   "cell_type": "code",
   "execution_count": 0,
   "metadata": {
    "colab": {},
    "colab_type": "code",
    "collapsed": true,
    "id": "qW77MAWtGI4G"
   },
   "outputs": [],
   "source": [
    "#import some necessary librairies\n",
    "# This first set of packages include Pandas, for data manipulation, \n",
    "import pandas as pd # data processing, CSV file I/O (e.g. pd.read_csv)\n",
    "\n",
    "#numpy for mathematical computation \n",
    "import numpy as np # linear algebra"
   ]
  },
  {
   "cell_type": "code",
   "execution_count": 0,
   "metadata": {
    "colab": {
     "base_uri": "https://localhost:8080/",
     "height": 34
    },
    "colab_type": "code",
    "id": "5_kf-BTWGJXz",
    "outputId": "797ddc54-fd7a-4428-e5d9-d4a1b76495ab"
   },
   "outputs": [
    {
     "name": "stdout",
     "output_type": "stream",
     "text": [
      "Data Manipulation, Mathematical Computation and Visualisation packages imported!\n"
     ]
    }
   ],
   "source": [
    "#and matplotlib & seaborn, for visualisation.\n",
    "%matplotlib inline\n",
    "import matplotlib.pyplot as plt  # Matlab-style plotting\n",
    "from IPython.display import display\n",
    "import seaborn as sns\n",
    "color = sns.color_palette()\n",
    "sns.set_style('darkgrid')\n",
    "print('Data Manipulation, Mathematical Computation and Visualisation packages imported!')"
   ]
  },
  {
   "cell_type": "code",
   "execution_count": 0,
   "metadata": {
    "colab": {
     "base_uri": "https://localhost:8080/",
     "height": 34
    },
    "colab_type": "code",
    "id": "32CegktPGJ5L",
    "outputId": "fbc152e1-c5e7-4987-814f-54c29a1fea46"
   },
   "outputs": [
    {
     "name": "stdout",
     "output_type": "stream",
     "text": [
      "Statistical packages imported!\n"
     ]
    }
   ],
   "source": [
    "# Statistical packages used for transformations\n",
    "from scipy import stats\n",
    "from scipy.stats import norm, skew #for some statistics\n",
    "from scipy.special import boxcox1p \n",
    "from scipy.stats.stats import pearsonr\n",
    "print('Statistical packages imported!')"
   ]
  },
  {
   "cell_type": "code",
   "execution_count": 0,
   "metadata": {
    "colab": {
     "base_uri": "https://localhost:8080/",
     "height": 34
    },
    "colab_type": "code",
    "id": "nw3ePXNIGVbi",
    "outputId": "ffd61d55-57af-4ed1-be88-135ea414857d"
   },
   "outputs": [
    {
     "name": "stdout",
     "output_type": "stream",
     "text": [
      "Algorithm packages imported!\n"
     ]
    }
   ],
   "source": [
    "# Algorithms used for modeling\n",
    "from sklearn.kernel_ridge import KernelRidge\n",
    "from sklearn.metrics import mean_squared_error\n",
    "import xgboost as xgb\n",
    "import lightgbm as lgb\n",
    "print('Algorithm packages imported!')"
   ]
  },
  {
   "cell_type": "code",
   "execution_count": 0,
   "metadata": {
    "colab": {
     "base_uri": "https://localhost:8080/",
     "height": 34
    },
    "colab_type": "code",
    "id": "vbrHdJu9GWC1",
    "outputId": "fad710a6-93da-47a5-fa96-e4070e9d145f"
   },
   "outputs": [
    {
     "name": "stdout",
     "output_type": "stream",
     "text": [
      "Pipeline and preprocessing packages imported!\n"
     ]
    }
   ],
   "source": [
    "# Pipeline and scaling preprocessing will be used for models that are sensitive\n",
    "from sklearn.pipeline import make_pipeline\n",
    "from sklearn.preprocessing import RobustScaler\n",
    "from sklearn.preprocessing import StandardScaler\n",
    "from sklearn.preprocessing import LabelEncoder\n",
    "from sklearn.feature_selection import SelectFromModel\n",
    "from sklearn.feature_selection import SelectKBest\n",
    "from sklearn.feature_selection import chi2\n",
    "print('Pipeline and preprocessing packages imported!')"
   ]
  },
  {
   "cell_type": "code",
   "execution_count": 0,
   "metadata": {
    "colab": {
     "base_uri": "https://localhost:8080/",
     "height": 34
    },
    "colab_type": "code",
    "id": "6iNXp35WGeVo",
    "outputId": "ea30ecf8-d680-42e5-db22-9dafa4d1c532"
   },
   "outputs": [
    {
     "name": "stdout",
     "output_type": "stream",
     "text": [
      "Model selection packages imported!\n"
     ]
    }
   ],
   "source": [
    "# Model selection packages used for sampling dataset and optimising parameters\n",
    "from sklearn import model_selection\n",
    "from sklearn.model_selection import KFold\n",
    "from sklearn.model_selection import cross_val_score, train_test_split\n",
    "from sklearn.model_selection import GridSearchCV\n",
    "from sklearn.model_selection import ShuffleSplit\n",
    "print('Model selection packages imported!')"
   ]
  },
  {
   "cell_type": "code",
   "execution_count": 0,
   "metadata": {
    "colab": {},
    "colab_type": "code",
    "collapsed": true,
    "id": "4xBXhTOlGlj4"
   },
   "outputs": [],
   "source": [
    "# To ignore annoying warning\n",
    "import warnings\n",
    "\n",
    "import warnings\n",
    "warnings.filterwarnings('ignore')\n",
    "\n",
    "\n",
    "#Limiting floats output to 3 decimal points\n",
    "pd.set_option('display.float_format', lambda x: '{:.4f}'.format(x)) "
   ]
  },
  {
   "cell_type": "code",
   "execution_count": 0,
   "metadata": {
    "colab": {
     "base_uri": "https://localhost:8080/",
     "height": 170
    },
    "colab_type": "code",
    "id": "8F-u_HbQG7vc",
    "outputId": "03ae3d1a-dce6-496b-b1f1-8e2bd09d794e"
   },
   "outputs": [
    {
     "name": "stdout",
     "output_type": "stream",
     "text": [
      "Sakura_Assignmen_Final.ipynb\n",
      "Sakura_Assignment1.ipynb\n",
      "Sakura_Assignment2.ipynb\n",
      "Sakura_Assignment_Meta3.ipynb\n",
      "sakura_blooming-date.csv\n",
      "sakura.csv\n",
      "sakuratry.ipynb\n",
      "\n",
      "Dataset Imported!\n"
     ]
    }
   ],
   "source": [
    "#check the files available in the directory\n",
    "from subprocess import check_output\n",
    "print(check_output(['ls', '/content/drive/My Drive/Hiperdyne/Sakura']).decode('utf8'))\n",
    "\n",
    "#Now let's import and put the train and test datasets in  pandas dataframe\n",
    "sakuradb = pd.read_csv('/content/drive/My Drive/Hiperdyne/Sakura/sakura.csv')\n",
    "print('Dataset Imported!')"
   ]
  },
  {
   "cell_type": "code",
   "execution_count": 0,
   "metadata": {
    "colab": {
     "base_uri": "https://localhost:8080/",
     "height": 255
    },
    "colab_type": "code",
    "id": "77cJLdPoBR-j",
    "inputHidden": false,
    "outputHidden": false,
    "outputId": "97a5852d-a71e-49a1-cee2-7036e6326428"
   },
   "outputs": [
    {
     "name": "stdout",
     "output_type": "stream",
     "text": [
      "5 rows of Train dataset:\n",
      "Shape of the sakura dataset = (20561, 16)\n"
     ]
    },
    {
     "data": {
      "text/html": [
       "<div>\n",
       "<style scoped>\n",
       "    .dataframe tbody tr th:only-of-type {\n",
       "        vertical-align: middle;\n",
       "    }\n",
       "\n",
       "    .dataframe tbody tr th {\n",
       "        vertical-align: top;\n",
       "    }\n",
       "\n",
       "    .dataframe thead th {\n",
       "        text-align: right;\n",
       "    }\n",
       "</style>\n",
       "<table border=\"1\" class=\"dataframe\">\n",
       "  <thead>\n",
       "    <tr style=\"text-align: right;\">\n",
       "      <th></th>\n",
       "      <th>serial</th>\n",
       "      <th>year</th>\n",
       "      <th>month</th>\n",
       "      <th>day</th>\n",
       "      <th>local pressure</th>\n",
       "      <th>sea pressure</th>\n",
       "      <th>total preci</th>\n",
       "      <th>hr1 preci</th>\n",
       "      <th>min10 preci</th>\n",
       "      <th>avg temp</th>\n",
       "      <th>max temp</th>\n",
       "      <th>min temp</th>\n",
       "      <th>avg humid</th>\n",
       "      <th>min humid</th>\n",
       "      <th>sun hours</th>\n",
       "      <th>bloom</th>\n",
       "    </tr>\n",
       "  </thead>\n",
       "  <tbody>\n",
       "    <tr>\n",
       "      <th>0</th>\n",
       "      <td>0</td>\n",
       "      <td>1961</td>\n",
       "      <td>1</td>\n",
       "      <td>1</td>\n",
       "      <td>1011.7000</td>\n",
       "      <td>1012.4000</td>\n",
       "      <td>0.0000</td>\n",
       "      <td>0.0000</td>\n",
       "      <td>0.0000</td>\n",
       "      <td>2.1000</td>\n",
       "      <td>7.9000</td>\n",
       "      <td>-3.9000</td>\n",
       "      <td>41.0000</td>\n",
       "      <td>15.0000</td>\n",
       "      <td>8.6000</td>\n",
       "      <td>0.0000</td>\n",
       "    </tr>\n",
       "    <tr>\n",
       "      <th>1</th>\n",
       "      <td>1</td>\n",
       "      <td>1961</td>\n",
       "      <td>1</td>\n",
       "      <td>2</td>\n",
       "      <td>1020.2000</td>\n",
       "      <td>1021.0000</td>\n",
       "      <td>0.0000</td>\n",
       "      <td>0.0000</td>\n",
       "      <td>0.0000</td>\n",
       "      <td>1.5000</td>\n",
       "      <td>9.2000</td>\n",
       "      <td>-3.3000</td>\n",
       "      <td>51.0000</td>\n",
       "      <td>26.0000</td>\n",
       "      <td>8.7000</td>\n",
       "      <td>0.0000</td>\n",
       "    </tr>\n",
       "    <tr>\n",
       "      <th>2</th>\n",
       "      <td>2</td>\n",
       "      <td>1961</td>\n",
       "      <td>1</td>\n",
       "      <td>3</td>\n",
       "      <td>1021.3000</td>\n",
       "      <td>1022.1000</td>\n",
       "      <td>0.1000</td>\n",
       "      <td>0.8000</td>\n",
       "      <td>0.0000</td>\n",
       "      <td>2.5000</td>\n",
       "      <td>7.3000</td>\n",
       "      <td>-2.4000</td>\n",
       "      <td>58.0000</td>\n",
       "      <td>37.0000</td>\n",
       "      <td>5.4000</td>\n",
       "      <td>0.0000</td>\n",
       "    </tr>\n",
       "    <tr>\n",
       "      <th>3</th>\n",
       "      <td>3</td>\n",
       "      <td>1961</td>\n",
       "      <td>1</td>\n",
       "      <td>4</td>\n",
       "      <td>1004.6000</td>\n",
       "      <td>1005.3000</td>\n",
       "      <td>20.2000</td>\n",
       "      <td>13.9000</td>\n",
       "      <td>3.2000</td>\n",
       "      <td>4.7000</td>\n",
       "      <td>11.5000</td>\n",
       "      <td>0.6000</td>\n",
       "      <td>60.0000</td>\n",
       "      <td>38.0000</td>\n",
       "      <td>1.0000</td>\n",
       "      <td>0.0000</td>\n",
       "    </tr>\n",
       "    <tr>\n",
       "      <th>4</th>\n",
       "      <td>4</td>\n",
       "      <td>1961</td>\n",
       "      <td>1</td>\n",
       "      <td>5</td>\n",
       "      <td>1016.3000</td>\n",
       "      <td>1017.0000</td>\n",
       "      <td>0.0000</td>\n",
       "      <td>0.0000</td>\n",
       "      <td>0.0000</td>\n",
       "      <td>3.8000</td>\n",
       "      <td>7.7000</td>\n",
       "      <td>1.4000</td>\n",
       "      <td>33.0000</td>\n",
       "      <td>19.0000</td>\n",
       "      <td>8.3000</td>\n",
       "      <td>0.0000</td>\n",
       "    </tr>\n",
       "  </tbody>\n",
       "</table>\n",
       "</div>"
      ],
      "text/plain": [
       "   serial  year  month  day  local pressure  sea pressure  total preci  \\\n",
       "0       0  1961      1    1       1011.7000     1012.4000       0.0000   \n",
       "1       1  1961      1    2       1020.2000     1021.0000       0.0000   \n",
       "2       2  1961      1    3       1021.3000     1022.1000       0.1000   \n",
       "3       3  1961      1    4       1004.6000     1005.3000      20.2000   \n",
       "4       4  1961      1    5       1016.3000     1017.0000       0.0000   \n",
       "\n",
       "   hr1 preci  min10 preci  avg temp  max temp  min temp  avg humid  min humid  \\\n",
       "0     0.0000       0.0000    2.1000    7.9000   -3.9000    41.0000    15.0000   \n",
       "1     0.0000       0.0000    1.5000    9.2000   -3.3000    51.0000    26.0000   \n",
       "2     0.8000       0.0000    2.5000    7.3000   -2.4000    58.0000    37.0000   \n",
       "3    13.9000       3.2000    4.7000   11.5000    0.6000    60.0000    38.0000   \n",
       "4     0.0000       0.0000    3.8000    7.7000    1.4000    33.0000    19.0000   \n",
       "\n",
       "   sun hours  bloom  \n",
       "0     8.6000 0.0000  \n",
       "1     8.7000 0.0000  \n",
       "2     5.4000 0.0000  \n",
       "3     1.0000 0.0000  \n",
       "4     8.3000 0.0000  "
      ]
     },
     "execution_count": 10,
     "metadata": {
      "tags": []
     },
     "output_type": "execute_result"
    }
   ],
   "source": [
    "#display the first five rows of the train dataset if necessary\n",
    "pd.set_option('display.max_columns', None)\n",
    "print('5 rows of Train dataset:')\n",
    "print('Shape of the sakura dataset =',str(sakuradb.shape))\n",
    "sakuradb.head()"
   ]
  },
  {
   "cell_type": "markdown",
   "metadata": {
    "colab_type": "text",
    "id": "SnaVvqkJjbs0"
   },
   "source": [
    "<p>Lets split train and test data and reset the index column for both datasets</p>"
   ]
  },
  {
   "cell_type": "code",
   "execution_count": 0,
   "metadata": {
    "colab": {
     "base_uri": "https://localhost:8080/",
     "height": 34
    },
    "colab_type": "code",
    "id": "zU4q_fSSM74P",
    "outputId": "592fd3fc-a3cb-42ba-dbf5-b1ce550a0a9b"
   },
   "outputs": [
    {
     "name": "stdout",
     "output_type": "stream",
     "text": [
      "Total size of Train and test Dataset = 20561\n"
     ]
    }
   ],
   "source": [
    "#Split train and test \n",
    "traindb = sakuradb[(sakuradb.year != 1966)& (sakuradb.year != 1971)& (sakuradb.year != 1985)& (sakuradb.year != 1994)& (sakuradb.year != 2008)]\n",
    "traindb = traindb.reset_index(drop=True)\n",
    "testdb = sakuradb[(sakuradb.year == 1966)| (sakuradb.year == 1971)| (sakuradb.year == 1985)| (sakuradb.year == 1994)| (sakuradb.year == 2008)]\n",
    "testdb = testdb.reset_index(drop=True)\n",
    "print('Total size of Train and test Dataset =',str(testdb.shape[0]+traindb.shape[0]))"
   ]
  },
  {
   "cell_type": "markdown",
   "metadata": {
    "colab_type": "text",
    "id": "cZ_Eudc6hMEv"
   },
   "source": [
    "<p>So Train and Test dataset are now properly splitted. And the combined size of train and test-db is equal to the actual dataset-sakuradb. </p>"
   ]
  },
  {
   "cell_type": "markdown",
   "metadata": {
    "colab_type": "text",
    "id": "5CPYStYEBR-v"
   },
   "source": [
    "***\n",
    "## 1. Prediction using the \"600 Degree Rule\" (15pts total)"
   ]
  },
  {
   "cell_type": "markdown",
   "metadata": {
    "colab_type": "text",
    "id": "BtnIoJLqBR-y"
   },
   "source": [
    "For a rough approximaton of the bloom-date, we start with a simple \"rule-based\" prediction model, called the \"600 Degree Rule\". The rule consists of logging the maximum temperature of each day, starting  on February 1st, and sum these temperatures until the sum surpasses 600$^\\circ$C. The day that this happens is the predicted bloom-date. This 600$^\\circ$C threshold is used to easily predict bloom-date in various locations varies by location. However, for more precise predictions, it should be set differently for every location. In this challenge, we verify the accuracy of the \"600 Degree Rule\" in the case of Tokyo."
   ]
  },
  {
   "cell_type": "markdown",
   "metadata": {
    "colab_type": "text",
    "id": "qai6wBUMBR-z"
   },
   "source": [
    "### Problem 1-1: (5pts)\n",
    "From here-on, we refer to the bloom-date in a given year $j$ as $BD_{j}$. For each year in the training data, calculate the accumulated daily maximum temperature from February 1st to the actual bloom-date $BD_{j}$, and plot this accumulated value over the training period. Then, average this accumulated value as $T_{mean}$, and verify whether we should use 600$^\\circ$C as a rule for Tokyo."
   ]
  },
  {
   "cell_type": "markdown",
   "metadata": {
    "colab_type": "text",
    "id": "0Gt0pOSFl4la"
   },
   "source": [
    "<h3><p><u>Lets calculate total temperature from February 1st to the actual bloom-date  for each year and then get the Tmean for Tokyo</u></p><h3>"
   ]
  },
  {
   "cell_type": "code",
   "execution_count": 0,
   "metadata": {
    "colab": {
     "base_uri": "https://localhost:8080/",
     "height": 68
    },
    "colab_type": "code",
    "id": "dCsX8CWYHF-i",
    "outputId": "7fbae569-a06c-4e61-f5b0-0f8524ebec7e"
   },
   "outputs": [
    {
     "name": "stdout",
     "output_type": "stream",
     "text": [
      "So each year has one bloom-date.\n",
      "The average of accumulated temperature for each year \n",
      " or Tmean for Tokyo is  638.3557692307693 Degree C\n"
     ]
    }
   ],
   "source": [
    "#Lets get a list for train and test years\n",
    "trainyears = traindb['year'].unique().tolist()\n",
    "testyears = testdb['year'].unique().tolist()\n",
    "total_temps = []\n",
    "\n",
    "#check if there is only one bloom-date for each year\n",
    "if(traindb[(traindb.bloom == 1)].shape[0] == len(trainyears)): print('So each year has one bloom-date.')\n",
    "  \n",
    "#calculate total temperature from February 1st to the actual bloom-date  for each year\n",
    "for year in trainyears:\n",
    "    beginPeriod = traindb[(traindb.year == year) & (traindb.month == 2) & (traindb.day == 1)].index[0]\n",
    "    endPeriod = traindb[(traindb.year == year) & (traindb.bloom == 1)].index[0]\n",
    "    duration = traindb[beginPeriod:endPeriod+1]\n",
    "    total_max_temp = duration['max temp'].sum()\n",
    "    total_temps.append(total_max_temp)\n",
    "\n",
    "t_mean = np.average(total_temps)\n",
    "print('The average of accumulated temperature for each year','\\n', 'or Tmean for Tokyo is ',t_mean, 'Degree C')"
   ]
  },
  {
   "cell_type": "markdown",
   "metadata": {
    "colab_type": "text",
    "id": "EqHj5HMnnTvs"
   },
   "source": [
    "<p>So 600 degree rule cannot be used for Tokyo as  Tmean for Tokyo is higher than 600 degree by 38 degree centigrade. Therefore Tmean = 638 degree has to be used to predict the bloom-date in Tokyo</p>"
   ]
  },
  {
   "cell_type": "markdown",
   "metadata": {
    "colab_type": "text",
    "id": "b4OsHUdPrN6k"
   },
   "source": [
    "<h3><p><u>Plotting Accumulated Max Temperature against Training Years</u></p>"
   ]
  },
  {
   "cell_type": "code",
   "execution_count": 0,
   "metadata": {
    "colab": {
     "base_uri": "https://localhost:8080/",
     "height": 213
    },
    "colab_type": "code",
    "id": "PatHI-PrBR-4",
    "outputId": "28043eb6-3775-44ba-9f02-73a5053a9988",
    "scrolled": true
   },
   "outputs": [
    {
     "data": {
      "image/png": "[encoded data removed]",
      "text/plain": [
       "<Figure size 648x180 with 1 Axes>"
      ]
     },
     "metadata": {
      "tags": []
     },
     "output_type": "display_data"
    }
   ],
   "source": [
    "adding = 0\n",
    "all_avg = []\n",
    "for count in range(len(total_temps)):\n",
    "  adding = adding + total_temps[count]\n",
    "  avg = adding/(count+1)\n",
    "  all_avg.append(avg)\n",
    "\n",
    "plt.subplots(figsize=(9, 2.5))\n",
    "plt.plot(trainyears,total_temps,'-bo',label='Max Temp')\n",
    "plt.plot(trainyears,all_avg,'--r',label='Avg Max Temp')\n",
    "plt.xlabel('Training Years')\n",
    "plt.ylabel('Accumulated \\n Max Temperature')\n",
    "plt.ylim(500, 800)\n",
    "plt.title('Accumulated Maximun Temperature VS Training Year', fontsize = 12)\n",
    "plt.legend()\n",
    "plt.show()"
   ]
  },
  {
   "cell_type": "markdown",
   "metadata": {
    "colab_type": "text",
    "id": "tzW-GM1AvZnt"
   },
   "source": [
    "<p>So we can see that the accumulated Maximum Temperatures for most of the years are in between 600 and 700 degree centigrade. Here the dashed-line is representing average up-to a each year. From the line it can be easily understood that the accumulated Maximum Temperatures has gradually decreased over-time. The decreasing is clearly visible in the recent years</p>"
   ]
  },
  {
   "cell_type": "markdown",
   "metadata": {
    "colab_type": "text",
    "id": "PDaMRjDkBR_D"
   },
   "source": [
    "### Problem 1-2: (10pts)\n",
    "\n",
    "Use the average accumulated value $T_{mean}$ calculated in 1-1 to predict $BD_{j}$ for each test year, and show the error from the actual $BD_{j}$. Compare to the prediction results when 600$^\\circ$C is used a threshold value, and evaluate both models using the coefficient of determination ($R^2$ score)."
   ]
  },
  {
   "cell_type": "markdown",
   "metadata": {
    "colab_type": "text",
    "id": "0A1uFYs_qf3e"
   },
   "source": [
    "<h3><p><u>Declaring variables</u></p>"
   ]
  },
  {
   "cell_type": "code",
   "execution_count": 0,
   "metadata": {
    "colab": {},
    "colab_type": "code",
    "collapsed": true,
    "id": "UuUEPyoPHMV3"
   },
   "outputs": [],
   "source": [
    "from datetime import date\n",
    "from sklearn.metrics import r2_score\n",
    "\n",
    "t600 = 600\n",
    "bloom_dates_by_tmean = []\n",
    "bloom_days_by_tmean = []\n",
    "\n",
    "bloom_dates_by_t600 = []\n",
    "bloom_days_by_t600 = []\n",
    "\n",
    "actual_bloom_dates = []\n",
    "actual_bloom_days = []"
   ]
  },
  {
   "cell_type": "markdown",
   "metadata": {
    "colab_type": "text",
    "id": "RURpXuOGqzN8"
   },
   "source": [
    "<h3><p><u>Prediction bloom-dates of test-years using Tmean</u></p>"
   ]
  },
  {
   "cell_type": "code",
   "execution_count": 0,
   "metadata": {
    "colab": {},
    "colab_type": "code",
    "collapsed": true,
    "id": "XeytUYWZHRq5"
   },
   "outputs": [],
   "source": [
    "for year in testyears:\n",
    "  beginPeriod = testdb[(testdb.year == year) & (testdb.month == 2) & (testdb.day == 1)].index[0]\n",
    "  begin_date = date(year, int(testdb[beginPeriod:beginPeriod+1]['month']), int(testdb[beginPeriod:beginPeriod+1]['day']))\n",
    "  threshold_temp = 0\n",
    "  while(threshold_temp < t_mean):\n",
    "    threshold_temp = threshold_temp + float(testdb[beginPeriod:beginPeriod+1]['max temp'])\n",
    "    beginPeriod = beginPeriod+1 \n",
    "  endPeriod = beginPeriod\n",
    "  bloom_date = date(year, int(testdb[endPeriod:endPeriod+1]['month']), int(testdb[endPeriod:endPeriod+1]['day']))\n",
    "  bloom_duration = bloom_date - begin_date\n",
    "  bloom_dates_by_tmean.append(bloom_date)\n",
    "  bloom_days_by_tmean.append(bloom_duration.days-1)"
   ]
  },
  {
   "cell_type": "markdown",
   "metadata": {
    "colab_type": "text",
    "id": "75LFiMiXraO5"
   },
   "source": [
    "<h3><p><u>Prediction bloom-dates of test-years using 600 degree rule</u></p>"
   ]
  },
  {
   "cell_type": "code",
   "execution_count": 0,
   "metadata": {
    "colab": {},
    "colab_type": "code",
    "collapsed": true,
    "id": "XR68rsVcHTUX"
   },
   "outputs": [],
   "source": [
    "for year in testyears:\n",
    "  beginPeriod = testdb[(testdb.year == year) & (testdb.month == 2) & (testdb.day == 1)].index[0]\n",
    "  begin_date = date(year, int(testdb[beginPeriod:beginPeriod+1]['month']), int(testdb[beginPeriod:beginPeriod+1]['day']))\n",
    "  threshold_temp = 0\n",
    "  while(threshold_temp < t600):\n",
    "    threshold_temp = threshold_temp + float(testdb[beginPeriod:beginPeriod+1]['max temp'])\n",
    "    beginPeriod = beginPeriod+1 \n",
    "  endPeriod = beginPeriod\n",
    "  bloom_date = date(year, int(testdb[endPeriod:endPeriod+1]['month']), int(testdb[endPeriod:endPeriod+1]['day']))\n",
    "  bloom_duration = bloom_date - begin_date\n",
    "  bloom_dates_by_t600.append(bloom_date)\n",
    "  bloom_days_by_t600.append(bloom_duration.days-1)"
   ]
  },
  {
   "cell_type": "markdown",
   "metadata": {
    "colab_type": "text",
    "id": "Q67Mytwjrqew"
   },
   "source": [
    "<h3><p><u>Making a list of actual bloom-dates</u></p>"
   ]
  },
  {
   "cell_type": "code",
   "execution_count": 0,
   "metadata": {
    "colab": {},
    "colab_type": "code",
    "collapsed": true,
    "id": "IEKBj9vxBR_K"
   },
   "outputs": [],
   "source": [
    "for year in testyears: \n",
    "  beginPeriod = testdb[(testdb.year == year) & (testdb.month == 2) & (testdb.day == 1)].index[0]\n",
    "  begin_date = date(year, int(testdb[beginPeriod:beginPeriod+1]['month']), int(testdb[beginPeriod:beginPeriod+1]['day']))\n",
    "  endPeriod = testdb[(testdb.year == year) & (testdb.bloom == 1)].index[0]\n",
    "  bloom_date = date(year, int(testdb[endPeriod:endPeriod+1]['month']), int(testdb[endPeriod:endPeriod+1]['day']))\n",
    "  bloom_duration = (bloom_date - begin_date)\n",
    "  actual_bloom_days.append(bloom_duration.days)\n",
    "  actual_bloom_dates.append(bloom_date)"
   ]
  },
  {
   "cell_type": "markdown",
   "metadata": {
    "colab_type": "text",
    "id": "2Pk0Kis-sVnl"
   },
   "source": [
    "<h3><p><u>Comparison of prediction for Tmean and 600-Degree rule with respect to actual bloom-dates</u></p>"
   ]
  },
  {
   "cell_type": "code",
   "execution_count": 0,
   "metadata": {
    "colab": {
     "base_uri": "https://localhost:8080/",
     "height": 238
    },
    "colab_type": "code",
    "id": "8pL12Bhur46W",
    "outputId": "5fd5588a-2195-4d70-b6d6-11722fae27e7"
   },
   "outputs": [
    {
     "name": "stdout",
     "output_type": "stream",
     "text": [
      "Comparison of prediction for Tmean and 600-Degree rule \n",
      " with respect to actual bloom-dates\n"
     ]
    },
    {
     "data": {
      "text/html": [
       "<div>\n",
       "<style scoped>\n",
       "    .dataframe tbody tr th:only-of-type {\n",
       "        vertical-align: middle;\n",
       "    }\n",
       "\n",
       "    .dataframe tbody tr th {\n",
       "        vertical-align: top;\n",
       "    }\n",
       "\n",
       "    .dataframe thead th {\n",
       "        text-align: right;\n",
       "    }\n",
       "</style>\n",
       "<table border=\"1\" class=\"dataframe\">\n",
       "  <thead>\n",
       "    <tr style=\"text-align: right;\">\n",
       "      <th></th>\n",
       "      <th>Actual-bloom-dates</th>\n",
       "      <th>Bloom_dates_by_T600</th>\n",
       "      <th>Bloom_dates_by_Tmean</th>\n",
       "    </tr>\n",
       "  </thead>\n",
       "  <tbody>\n",
       "    <tr>\n",
       "      <th>0</th>\n",
       "      <td>1966-03-20</td>\n",
       "      <td>1966-03-21</td>\n",
       "      <td>1966-03-24</td>\n",
       "    </tr>\n",
       "    <tr>\n",
       "      <th>1</th>\n",
       "      <td>1971-03-30</td>\n",
       "      <td>1971-03-28</td>\n",
       "      <td>1971-03-30</td>\n",
       "    </tr>\n",
       "    <tr>\n",
       "      <th>2</th>\n",
       "      <td>1985-04-03</td>\n",
       "      <td>1985-03-30</td>\n",
       "      <td>1985-04-02</td>\n",
       "    </tr>\n",
       "    <tr>\n",
       "      <th>3</th>\n",
       "      <td>1994-03-31</td>\n",
       "      <td>1994-03-29</td>\n",
       "      <td>1994-04-01</td>\n",
       "    </tr>\n",
       "    <tr>\n",
       "      <th>4</th>\n",
       "      <td>2008-03-22</td>\n",
       "      <td>2008-03-24</td>\n",
       "      <td>2008-03-26</td>\n",
       "    </tr>\n",
       "  </tbody>\n",
       "</table>\n",
       "</div>"
      ],
      "text/plain": [
       "  Actual-bloom-dates Bloom_dates_by_T600 Bloom_dates_by_Tmean\n",
       "0         1966-03-20          1966-03-21           1966-03-24\n",
       "1         1971-03-30          1971-03-28           1971-03-30\n",
       "2         1985-04-03          1985-03-30           1985-04-02\n",
       "3         1994-03-31          1994-03-29           1994-04-01\n",
       "4         2008-03-22          2008-03-24           2008-03-26"
      ]
     },
     "execution_count": 18,
     "metadata": {
      "tags": []
     },
     "output_type": "execute_result"
    }
   ],
   "source": [
    "print('Comparison of prediction for Tmean and 600-Degree rule','\\n','with respect to actual bloom-dates')  \n",
    "percentile_list = pd.DataFrame({'Actual-bloom-dates' : actual_bloom_dates,\n",
    "                                'Bloom_dates_by_Tmean' : bloom_dates_by_tmean,\n",
    "                                'Bloom_dates_by_T600' : bloom_dates_by_t600 })\n",
    "percentile_list"
   ]
  },
  {
   "cell_type": "markdown",
   "metadata": {
    "colab_type": "text",
    "id": "i6GMpM1YtDWK"
   },
   "source": [
    "<h3><p><u>Error comparison of T600 and Tmean using Scatterplot</u></p>"
   ]
  },
  {
   "cell_type": "code",
   "execution_count": 0,
   "metadata": {
    "colab": {},
    "colab_type": "code",
    "collapsed": true,
    "id": "ubIhCd4cHbM3"
   },
   "outputs": [],
   "source": [
    "ABD = actual_bloom_dates.copy()\n",
    "BDTmean = bloom_dates_by_tmean.copy()\n",
    "BDT600 = bloom_dates_by_t600.copy()\n",
    "#Errors for T600 & Tmean\n",
    "errorTmean = []\n",
    "errorT600 = []\n",
    "for count in range(len(ABD)):\n",
    "  errorTmean.append(abs(ABD[count] - BDTmean[count]).days)\n",
    "  errorT600.append(abs(ABD[count] - BDT600[count]).days)"
   ]
  },
  {
   "cell_type": "code",
   "execution_count": 0,
   "metadata": {
    "colab": {
     "base_uri": "https://localhost:8080/",
     "height": 240
    },
    "colab_type": "code",
    "id": "F2NUgs6GHdmO",
    "outputId": "7c30db71-ac7f-4550-d8c9-8c6b22b3734c"
   },
   "outputs": [
    {
     "data": {
      "image/png": "[encoded data removed]",
      "text/plain": [
       "<Figure size 576x216 with 1 Axes>"
      ]
     },
     "metadata": {
      "tags": []
     },
     "output_type": "display_data"
    }
   ],
   "source": [
    "plt.subplots(figsize=(8, 3))\n",
    "plt.plot(testyears,errorT600,'bo',label='600')\n",
    "plt.plot(testyears,errorTmean,'ro',label='Tmean')\n",
    "plt.xlabel('Test Years')\n",
    "plt.ylabel('Error in Days')\n",
    "plt.title('Scatterplot: Error comparison of T600 and Tmean')\n",
    "plt.ylim(-1,5)\n",
    "plt.legend()\n",
    "plt.show() "
   ]
  },
  {
   "cell_type": "markdown",
   "metadata": {
    "colab_type": "text",
    "id": "7yJ-nDuWtSSp"
   },
   "source": [
    "<h3><p><u>Error comparison of T600 and Tmean using Barplot</u></p>"
   ]
  },
  {
   "cell_type": "code",
   "execution_count": 0,
   "metadata": {
    "colab": {
     "base_uri": "https://localhost:8080/",
     "height": 349
    },
    "colab_type": "code",
    "id": "wqQDMZMrtoUD",
    "outputId": "8f89ccb2-3c4a-4c08-be30-cb4f87b91232"
   },
   "outputs": [
    {
     "data": {
      "image/png": "[encoded data removed]",
      "text/plain": [
       "<Figure size 576x360 with 1 Axes>"
      ]
     },
     "metadata": {
      "tags": []
     },
     "output_type": "display_data"
    }
   ],
   "source": [
    "ind = np.arange(len(testyears))\n",
    "width = 0.35\n",
    "fig, ax = plt.subplots(figsize=(8, 5))\n",
    "p1 = ax.bar(ind, errorT600, width, color='r')\n",
    "p2 = ax.bar(ind + width, errorTmean, width,color='y')\n",
    "ax.set_title('Barplot: Error comparison of T600 and Tmean')\n",
    "ax.set_xticks(ind + width / 2)\n",
    "ax.set_xticklabels(testyears)\n",
    "ax.legend((p1[0], p2[0]), ('T600', 'Tmean'),loc='best', fontsize=15)\n",
    "plt.ylabel('Error in Days')\n",
    "plt.xlabel('Test years')\n",
    "plt.show()"
   ]
  },
  {
   "cell_type": "markdown",
   "metadata": {
    "colab_type": "text",
    "id": "n6Im-Dq3HxBW"
   },
   "source": [
    "<h3>Plot-discussion</h3>\n",
    "<p><u></u><br>From both scatter-plot and bar-plot we can see that the error of 600-degree-rule is considerably higher than Tmean Rule for the majority of years. On the other hand Tmean-rule shows less error though it showed higher error than 600-degree-rule for the years 1966 and 2008. So it is not always better. Therefore we can calculate the average of the predictions from both models to achieve more generalized results.</p>"
   ]
  },
  {
   "cell_type": "markdown",
   "metadata": {
    "colab_type": "text",
    "id": "bmHDK1Amu3hr"
   },
   "source": [
    "<h3><p><u>Calculating R2-score for Tmean and 600 degree rule</u></p>"
   ]
  },
  {
   "cell_type": "code",
   "execution_count": 0,
   "metadata": {
    "colab": {
     "base_uri": "https://localhost:8080/",
     "height": 51
    },
    "colab_type": "code",
    "id": "Zu0P-PQpsQfR",
    "outputId": "3368cc6c-441a-4aca-81e3-590a8a0851ee"
   },
   "outputs": [
    {
     "name": "stdout",
     "output_type": "stream",
     "text": [
      "R2-Score for T600:  0.6793002915451896\n",
      "R2-Score for Tmean:  0.8323615160349854\n"
     ]
    }
   ],
   "source": [
    "actual_bloom_days_600degree = actual_bloom_days\n",
    "predicted_bloom_days_by_t600 = bloom_days_by_t600\n",
    "predicted_bloom_days_by_tmean = bloom_days_by_tmean\n",
    "print('R2-Score for T600: ',r2_score(actual_bloom_days, bloom_days_by_t600))\n",
    "print('R2-Score for Tmean: ',r2_score(actual_bloom_days, bloom_days_by_tmean))"
   ]
  },
  {
   "cell_type": "markdown",
   "metadata": {
    "colab_type": "text",
    "id": "q6O9zIw9H2qw"
   },
   "source": [
    "<p>So Tmean Rule shows higher R2 score for the testdb </p>"
   ]
  },
  {
   "cell_type": "markdown",
   "metadata": {
    "colab_type": "text",
    "id": "UUAuJWUWBR_T"
   },
   "source": [
    "***\n",
    "## 2. Linear Regression Model: Transform to Standard Temperature (30pts total)"
   ]
  },
  {
   "cell_type": "markdown",
   "metadata": {
    "colab_type": "text",
    "id": "9ypgwVGFBR_X"
   },
   "source": [
    "The year to year fluctuation of the bloom-date depends heavily upon the actual temperature fluctuation (not just the accumulated maximum). In order to get to a more physiologically realistic metric,  Sugihara et al. (1986) considered the actual effect of temperature on biochemical activity. They introduced a method of \"standardizing\" the temperatures measured, according to the fluctuation relative to a standard temperature.\n",
    "\n",
    "In order to make such a standardization, we apply two major assumptions, outlined below.\n",
    "\n",
    "#### 1) The Arrhenius equation: <br>\n",
    "\n",
    "The first assumption, also known in thermodynamics as the \"Arrhenius equation\", deals with chemical reaction rates and can be written as follows:\n",
    "\n",
    "$$\n",
    "k = A \\exp{ \\Bigl(- \\frac{E_{a}}{RT}} \\Bigr)\n",
    "$$ <br>\n",
    "\n",
    "Basically, it says that each reaction has an activation energy, $E_{a}$ and a pre-exponential factor $A$. Knowing these values for the particular equation, we can find the rate constant $k$ if we know the temperature, $T$, and applying the universal gas constant, $R = 8.314 \\rm [J/K・mol]$.\n",
    "\n",
    "#### 2) Constant output at constant temperature: <br>\n",
    "\n",
    "The second assumption, is simply that the output of a reaction is a simple product of the duration and the rate constant $k$, and that product is constant even at different temperatures.\n",
    "    \n",
    "$$\n",
    "tk = t'k' = t''k'' = \\cdots = \\rm{const}\n",
    "$$ <br>\n",
    "\n",
    "\n",
    "Making the assumptions above, we can determine a \"standard reaction time\", $t_{s}$ required for the bloom-date to occur. We can do so in the following way:\n",
    "\n",
    "<br>\n",
    "$$\n",
    "t_{s} = \\exp \\Bigl( \\frac{E_{a}(T_{i, j} - T_{s})}{RT_{i, j}T_{s}}\\Bigr)\n",
    "$$ <br>\n",
    "\n",
    "We define $T_{i, j}$ as the daily average temperature, and use a standard temperature of $T_{s} = 17^\\circ\\rm{C}$. For a given year $j$, with the last day of the hibernation phase set as $D_ {j}$, we define the number of \"transformed temperature days\",  $DTS_{ J}$,  needed to reach from $D_ {j}$ to the bloom-date $BD_{j}$ with the following equation:\n",
    "\n",
    "\n",
    "<br>\n",
    "$$\n",
    "DTS_{j} = \\sum_{i=D_{j}}^{BD_{j}} t_{s} = \\sum_{i=D_{j}}^{BD_{j}} \\exp \\Bigl( \\frac{E_{a}(T_{i, j} - T_{s})}{RT_{i, j}T_{s}}\\Bigr)\n",
    "$$ <br>\n",
    "\n",
    "\n",
    "\n",
    "From that equation, we can find the average $DTS$ for $x$ number of years ($DTS_{ mean}$) as follows: \n",
    "\n",
    "<br>\n",
    "$$\n",
    "\\begin{align}\n",
    "DTS_{\\rm{mean}} &= \\frac{1}{x} \\sum_{j}^{x} DTS_{j} \\\\\n",
    "&= \\frac{1}{x} \\sum_{j}^{x} \\sum_{i=D_{j}}^{BD_{j}} \\exp \\Bigl( \\frac{E_{a}(T_{i, j} - T_{s})}{RT_{i, j}T_{s}}\\Bigr)\n",
    "\\end{align}\n",
    "$$ <br> <br>\n",
    "\n",
    "In this exercise, we assume that $DTS_{ mean}$ and $E_{ a}$ are constant values, and we use the data from the training years to fit these 2 constants. The exercise consists of 4 steps:\n",
    "1. Calculate the last day of the hibernation phase $D_ {j}$ for every year $j$.\n",
    "2. For every year $j$, calculate $DTS_{ j}$ as a function of $E_{ a}$, then calculate the average (over training years) $DTS_{ mean}$ also as a function of $E_{ a}$.\n",
    "3. For every year $j$, and for every value of $E_{ a}$, accumulate $t_{s}$ from $D_ {j}$ and predict the bloom date $BD_{j}^{\\rm{pred}}$ as the day the accumulated value surpasses $DTS_{ mean}$. Calculate the bloom date prediction error as a function of $E_{ a}$, and find the optimal $E_{ a}$ value that minimizes that error.\n",
    "4. Use the previously calculated values of $D_ {j}$, $DTS_{ mean}$, and $E_{ a}$ to predict bloom-day on years from the test set.\n"
   ]
  },
  {
   "cell_type": "markdown",
   "metadata": {
    "colab_type": "text",
    "id": "BRF4HaMjBR_Z"
   },
   "source": [
    "### Problem 2-1: (5pts)\n",
    "According to Hayashi et al. (2012), the day on which the sakura will awaken from their hibernation phase, $D_{j}$, for a given location, can be approximated by the following equation:\n",
    "<br> <br>\n",
    "$$\n",
    "D_{j} = 136.75 - 7.689 \\phi + 0.133 \\phi^{2} -1.307\\ln L + 0.144T_{F} + 0.285T_{F}^2\n",
    "$$ <br>\n",
    "\n",
    "where $\\phi$ is the latitude [°N], $L$ is the distance from the nearest coastline [km], and $T_{F}$ is that location's average temperature [°C] over the first 3 months of a given year. In the case of Tokyo, $\\phi = 35°40'$ and $L=4\\rm{km}$.\n",
    "\n",
    "Find the $D_{j}$ value for every year $j$ from 1961 to 2017 (including the test years), and plot this value on a graph. \n",
    "\n",
    "(In Problem 1, we had assumed a $D_j$ of February 1st.)"
   ]
  },
  {
   "cell_type": "markdown",
   "metadata": {
    "colab_type": "text",
    "id": "UpGfoCplwzck"
   },
   "source": [
    "<h3><p><u>Plotting Dj values for every year $j$ from 1961 to 2017</u></p>"
   ]
  },
  {
   "cell_type": "code",
   "execution_count": 0,
   "metadata": {
    "colab": {},
    "colab_type": "code",
    "collapsed": true,
    "id": "wt_U8zKZISs_"
   },
   "outputs": [],
   "source": [
    "import math\n",
    "#trainyears =trainyears[ 0 : -1]\n",
    "allyears = sakuradb['year'].unique().tolist()\n",
    "dj_all = []\n",
    "dj_all_by_day = []\n",
    "dj_train = []\n",
    "dj_test = []\n",
    "\n",
    "#converting ϕ into decimal\n",
    "theta = 35+(40/60)\n",
    "coast_dist = 4.00"
   ]
  },
  {
   "cell_type": "code",
   "execution_count": 0,
   "metadata": {
    "colab": {},
    "colab_type": "code",
    "collapsed": true,
    "id": "m9ttVET2IWPU"
   },
   "outputs": [],
   "source": [
    "for year in allyears:\n",
    "    beginPeriod = sakuradb[(sakuradb.year == year) & (sakuradb.month == 1) & (sakuradb.day == 1)].index[0]\n",
    "    endPeriod = sakuradb[(sakuradb.year == year) & (sakuradb.month == 3) & (sakuradb.day == 31)].index[0]\n",
    "    duration = sakuradb[beginPeriod:endPeriod+1]\n",
    "    tf = duration['avg temp'].mean()\n",
    "    dj = 136.75 - (7.689*theta) + (0.133* math.pow(theta, 2))- (1.307*np.log(coast_dist))+ (0.144*tf) + (0.285* math.pow(tf, 2))\n",
    "    dj_all.append((round(dj)%31))\n",
    "    dj_all_by_day.append(round(dj))"
   ]
  },
  {
   "cell_type": "code",
   "execution_count": 0,
   "metadata": {
    "colab": {
     "base_uri": "https://localhost:8080/",
     "height": 240
    },
    "colab_type": "code",
    "id": "rlBsCASNEEbF",
    "outputId": "6a4150b7-66b5-4f4a-c6e1-1853926889eb"
   },
   "outputs": [
    {
     "data": {
      "image/png": "[encoded data removed]",
      "text/plain": [
       "<Figure size 864x216 with 1 Axes>"
      ]
     },
     "metadata": {
      "tags": []
     },
     "output_type": "display_data"
    }
   ],
   "source": [
    "adding = 0\n",
    "all_avg = []\n",
    "for count in range(len(dj_all_by_day)):\n",
    "  adding = adding + dj_all_by_day[count]\n",
    "  avg = adding/(count+1)\n",
    "  all_avg.append(avg)\n",
    "\n",
    "plt.subplots(figsize=(12, 3))\n",
    "plt.plot(allyears,dj_all_by_day,'-bo', label = 'Dj')\n",
    "plt.plot(allyears,all_avg,'--r', label = 'Dj mean')\n",
    "plt.xlabel('All Years')\n",
    "plt.ylabel('Dj')\n",
    "plt.ylim(30, 60)\n",
    "plt.title('Dj VS all Years')\n",
    "plt.legend()\n",
    "plt.show()"
   ]
  },
  {
   "cell_type": "markdown",
   "metadata": {
    "colab_type": "text",
    "id": "927vOK09JSL3"
   },
   "source": [
    "<h3>Plot-discussion</h3>\n",
    "<p><u></u><br>Here it can easily be understood that the values of Djs are higher than 30 but lower than 60 . Which means each Dj is actually any  day of the month- February. From the dashed-line of Dj-mean it is also visible that the average-Dj has increased over-time. So the last day of hybernation is gradually delaying over the years.</p>"
   ]
  },
  {
   "cell_type": "markdown",
   "metadata": {
    "colab_type": "text",
    "id": "Ntumv-D1CGa5"
   },
   "source": [
    "<h3><p><u>Storing Dj values separately for Train and Test Years</u></p>"
   ]
  },
  {
   "cell_type": "code",
   "execution_count": 0,
   "metadata": {
    "colab": {},
    "colab_type": "code",
    "collapsed": true,
    "id": "e7dw9-ZvIZVM"
   },
   "outputs": [],
   "source": [
    "for year in trainyears:\n",
    "    beginPeriod = traindb[(traindb.year == year) & (traindb.month == 1) & (traindb.day == 1)].index[0]\n",
    "    endPeriod = traindb[(traindb.year == year) & (traindb.month == 3) & (traindb.day == 31)].index[0]\n",
    "    duration = traindb[beginPeriod:endPeriod+1]\n",
    "    tf = duration['avg temp'].mean()\n",
    "    dj = 136.75 - (7.689*theta) + (0.133* math.pow(theta, 2))- (1.307*np.log(coast_dist))+ (0.144*tf) + (0.285* math.pow(tf, 2))\n",
    "    dj_train.append((round(dj)%31))"
   ]
  },
  {
   "cell_type": "code",
   "execution_count": 0,
   "metadata": {
    "colab": {},
    "colab_type": "code",
    "collapsed": true,
    "id": "CfeHm12MBR_d"
   },
   "outputs": [],
   "source": [
    "for year in testyears:\n",
    "    beginPeriod = testdb[(testdb.year == year) & (testdb.month == 1) & (testdb.day == 1)].index[0]\n",
    "    endPeriod = testdb[(testdb.year == year) & (testdb.month == 3) & (testdb.day == 31)].index[0]\n",
    "    duration = testdb[beginPeriod:endPeriod+1]\n",
    "    tf = duration['avg temp'].mean()\n",
    "    dj = 136.75 - (7.689*theta) + (0.133* math.pow(theta, 2))- (1.307*np.log(coast_dist))+ (0.144*tf) + (0.285* math.pow(tf, 2))\n",
    "    dj_test.append((round(dj)%31))    "
   ]
  },
  {
   "cell_type": "markdown",
   "metadata": {
    "colab_type": "text",
    "id": "vSY5y6dlBR_o"
   },
   "source": [
    "### Problem 2-2: (10pts)\n",
    "Calcluate $DTS_j$ for each year $j$ in the training set for discrete values of $E_{a}$, varying from 5 to 40kcal ($E_{a} = 5, 6, 7, \\cdots, 40 \\,\\rm{kcal}$), and plot this $DTS_j$ against $E_{a}$. Also calculate the average of $DTS_{j}$ over the training period, and indicate it on the plot as $DTS_{mean}$. Pay attention to the units of **every parameter** ($T_{i,j}$, $E_{a}$, etc) in the equation for $t_{s}$. \n"
   ]
  },
  {
   "cell_type": "markdown",
   "metadata": {
    "colab_type": "text",
    "id": "sS-00BG2CZrr"
   },
   "source": [
    "<h3><p><u>Calculating DTSmean for each Ea value</u></p>"
   ]
  },
  {
   "cell_type": "code",
   "execution_count": 0,
   "metadata": {
    "colab": {},
    "colab_type": "code",
    "collapsed": true,
    "id": "PtWem_WhBR_s"
   },
   "outputs": [],
   "source": [
    "const_temp = 17+273.15\n",
    "dtsj_per_ea = []\n",
    "dts_mean_per_ea = []\n",
    "all_ea = list(range(5, 41))\n",
    "for ea in all_ea:\n",
    "  dtsj_per_year = []\n",
    "  for count in range(len(trainyears)):\n",
    "    beginPeriod = traindb[(traindb.year == trainyears[count]) & (traindb.month == 2) & (traindb.day == dj_train[count])].index[0]\n",
    "    endPeriod = traindb[(traindb.year == trainyears[count]) & (traindb.bloom == 1)].index[0]\n",
    "    duration = traindb[beginPeriod:endPeriod+1]\n",
    "    #duration = traindb[beginPeriod:endPeriod]\n",
    "    duration['avg temp kelvin'] = duration['avg temp']+273.15\n",
    "    duration['ts'] = np.exp((ea*(duration['avg temp kelvin'] - const_temp))/(duration['avg temp kelvin']*const_temp*0.00198588))\n",
    "    dtsj = duration['ts'].sum()\n",
    "    dtsj_per_year.append(dtsj)\n",
    "  dtsj_per_ea.append(dtsj_per_year)\n",
    "  dts_mean_per_ea.append(np.average(dtsj_per_year))"
   ]
  },
  {
   "cell_type": "markdown",
   "metadata": {
    "colab_type": "text",
    "id": "_4eynatoCwEK"
   },
   "source": [
    "<h3><p><u>Plotting DTS VS Ea for all Train years</u></p>"
   ]
  },
  {
   "cell_type": "code",
   "execution_count": 0,
   "metadata": {
    "colab": {
     "base_uri": "https://localhost:8080/",
     "height": 420
    },
    "colab_type": "code",
    "id": "SzaxXRaMJGqO",
    "outputId": "fa79fb86-be46-4566-c68c-7cba0c7cb164"
   },
   "outputs": [
    {
     "name": "stdout",
     "output_type": "stream",
     "text": [
      "Average DTSmean over all Ea =  15.088145130425694\n"
     ]
    },
    {
     "data": {
      "image/png": "[encoded data removed]",
      "text/plain": [
       "<Figure size 864x432 with 1 Axes>"
      ]
     },
     "metadata": {
      "tags": []
     },
     "output_type": "display_data"
    }
   ],
   "source": [
    "avg_dts_mean = sum(dts_mean_per_ea)/len(dts_mean_per_ea)\n",
    "print('Average DTSmean over all Ea = ',avg_dts_mean)\n",
    "\n",
    "avg_dts_mean = [avg_dts_mean for i in range(len(all_ea))]\n",
    "\n",
    "plt.subplots(figsize=(12, 6))\n",
    "dtsj_for_each_year = []\n",
    "\n",
    "for i in range(len(trainyears)):\n",
    "  dtsj_for_each_ea = []\n",
    "  for j in range(len(all_ea)):\n",
    "    dtsj_for_each_ea.append(dtsj_per_ea[j][i])\n",
    "  dtsj_for_each_year.append(dtsj_for_each_ea)  \n",
    "\n",
    "for i in range(len(trainyears)):\n",
    "    plt.plot(all_ea,dtsj_for_each_year[i]) \n",
    "\n",
    "plt.xlabel(\"Ea-values\")    \n",
    "plt.ylabel(\"DTS-values\")                               \n",
    "plt.title(\"DTS VS Ea for all Trainyears\")    \n",
    "plt.plot(all_ea, dts_mean_per_ea,\"-ro\",label=\"DTSmean\")\n",
    "plt.xlim(5, 40)\n",
    "plt.plot(all_ea,avg_dts_mean,\"-bo\",label=\"DTSmean over all Ea\")\n",
    "plt.legend()\n",
    "plt.show()"
   ]
  },
  {
   "cell_type": "markdown",
   "metadata": {
    "colab_type": "text",
    "id": "KSSmnJp5EDct"
   },
   "source": [
    "<h3>Plot-Discussion</h3>\n",
    "<p><u></u><br>From the above plot it is clearly visible that the red-dotted DTSmean cluve has passed through the middle of all the curves for all the years of training dataset. Now we have to figure-out the best Ea and DTSmean combination for which the squared-error on test-data becomes minimum. </p>"
   ]
  },
  {
   "cell_type": "markdown",
   "metadata": {
    "colab_type": "text",
    "id": "1oM-rkYcBR_3"
   },
   "source": [
    "### Problem 2-3: (11pts)\n",
    "Using the same $E_{a}$ values and calculated $DTS_{mean}$ from 2-2, predict the bloom date $BD_{j}$ for each of the training years. Find the mean squared error relative to the actual $BD$ and plot it against $E_{a}$. Find the optimal $E_{a}^{*}$ that minimizes that error on the training data."
   ]
  },
  {
   "cell_type": "markdown",
   "metadata": {
    "colab_type": "text",
    "id": "53HeB1f5FgiZ"
   },
   "source": [
    "<h3><p><u>Predicting Bloom-dates of all train-years for each Ea value</u></p>"
   ]
  },
  {
   "cell_type": "code",
   "execution_count": 0,
   "metadata": {
    "colab": {},
    "colab_type": "code",
    "collapsed": true,
    "id": "nYN_jqd8BR_5"
   },
   "outputs": [],
   "source": [
    "bloom_dates_per_ea = []\n",
    "bloom_days_per_ea = []\n",
    "traindb['avg temp kelvin'] = traindb['avg temp']+273.15\n",
    "for value in range(len(all_ea)):\n",
    "  bloom_dates_by_DTSmean = []\n",
    "  bloom_days_by_DTSmean = []\n",
    "  for count in range(len(trainyears)):\n",
    "    marginPeriod = traindb[(traindb.year == trainyears[count]) & (traindb.month == 2) & (traindb.day == 1)].index[0]\n",
    "    margin_date = date(trainyears[count], int(traindb[marginPeriod:marginPeriod+1]['month']), int(traindb[marginPeriod:marginPeriod+1]['day']))\n",
    "    beginPeriod = traindb[(traindb.year == trainyears[count]) & (traindb.month == 2) & (traindb.day == dj_train[count])].index[0]\n",
    "    begin_date = date(trainyears[count], int(traindb[beginPeriod:beginPeriod+1]['month']), int(traindb[beginPeriod:beginPeriod+1]['day']))\n",
    "    threshold_dts = 0\n",
    "    while(threshold_dts <= dts_mean_per_ea[value]):\n",
    "      avg_temp = float(traindb[beginPeriod:beginPeriod+1]['avg temp kelvin'])\n",
    "      ts = np.exp((all_ea[value]*(avg_temp-const_temp))/(avg_temp*const_temp*0.00198588))\n",
    "      threshold_dts = threshold_dts + ts\n",
    "      beginPeriod = beginPeriod+1\n",
    "    endPeriod = beginPeriod\n",
    "    bloom_date = date(trainyears[count], int(traindb[endPeriod:endPeriod+1]['month']), int(traindb[endPeriod:endPeriod+1]['day']))\n",
    "    bloom_duration = bloom_date - begin_date\n",
    "    bloom_dates_by_DTSmean.append(bloom_date)\n",
    "    bloom_days_by_DTSmean.append(bloom_duration.days)\n",
    "  bloom_dates_per_ea.append(bloom_dates_by_DTSmean)\n",
    "  bloom_days_per_ea.append(bloom_days_by_DTSmean)"
   ]
  },
  {
   "cell_type": "markdown",
   "metadata": {
    "colab_type": "text",
    "id": "92DJqauyGPDf"
   },
   "source": [
    "<h3><p><u>Storring actual bloom-dates for each train-year</u></p>"
   ]
  },
  {
   "cell_type": "code",
   "execution_count": 0,
   "metadata": {
    "colab": {},
    "colab_type": "code",
    "collapsed": true,
    "id": "Ma-gYGrwCqiU"
   },
   "outputs": [],
   "source": [
    "actual_bloom_days = []\n",
    "actual_bloom_dates = []\n",
    "for count in range(len(trainyears)):\n",
    "  marginPeriod = traindb[(traindb.year == trainyears[count]) & (traindb.month == 2) & (traindb.day == 1)].index[0]\n",
    "  margin_date = date(trainyears[count], int(traindb[marginPeriod:marginPeriod+1]['month']), int(traindb[marginPeriod:marginPeriod+1]['day']))\n",
    "  beginPeriod = traindb[(traindb.year == trainyears[count]) & (traindb.month == 2) & (traindb.day == dj_train[count])].index[0]\n",
    "  begin_date = date(year, int(traindb[beginPeriod:beginPeriod+1]['month']), int(traindb[beginPeriod:beginPeriod+1]['day']))\n",
    "  endPeriod = traindb[(traindb.year == trainyears[count]) & (traindb.bloom == 1)].index[0]\n",
    "  bloom_date = date(year, int(traindb[endPeriod:endPeriod+1]['month']), int(traindb[endPeriod:endPeriod+1]['day']))\n",
    "  bloom_duration = bloom_date - begin_date\n",
    "  actual_bloom_days.append(bloom_duration.days)\n",
    "  actual_bloom_dates.append(bloom_date)"
   ]
  },
  {
   "cell_type": "markdown",
   "metadata": {
    "colab_type": "text",
    "id": "gMAjAGYAGjfS"
   },
   "source": [
    "<h3><p><u>Calculating optimal Ea that minimizes squared-error on trainDB</u></p>"
   ]
  },
  {
   "cell_type": "code",
   "execution_count": 0,
   "metadata": {
    "colab": {
     "base_uri": "https://localhost:8080/",
     "height": 68
    },
    "colab_type": "code",
    "id": "fQG2z2XGC_td",
    "outputId": "c0f56e7d-be5c-454a-e8d6-b9d635db0bcd"
   },
   "outputs": [
    {
     "name": "stdout",
     "output_type": "stream",
     "text": [
      "So for the  23 th Ea the mean-squared-error is found minimum \n",
      "The value of 23 th Ea is:  28 which is considered optimal\n",
      "The value of DTSmean for optimal Ea (=  28 ) is:  10.165189335489261\n"
     ]
    }
   ],
   "source": [
    "mse_per_ea = []\n",
    "for value in range(len(all_ea)):\n",
    "  squared_errors = []\n",
    "  for count in range(len(trainyears)):\n",
    "    error = (bloom_days_per_ea[value][count]) - (actual_bloom_days[count])\n",
    "    squared_errors.append(math.pow(error, 2))\n",
    "  mse_per_ea.append(np.mean(squared_errors))  \n",
    "  \n",
    "min_error = np.min(mse_per_ea)\n",
    "for value in range(len(all_ea)):\n",
    "  if(mse_per_ea[value] == min_error): \n",
    "    best_value = value\n",
    "    best_ea = all_ea[value]\n",
    "    best_dtsm = dts_mean_per_ea[value]\n",
    "    \n",
    "print('So for the ',best_value,'th Ea the mean-squared-error is found minimum ')\n",
    "print('The value of',best_value,'th Ea is: ',best_ea,'which is considered optimal')\n",
    "print('The value of DTSmean for optimal Ea (= ',best_ea, ') is: ',best_dtsm)  "
   ]
  },
  {
   "cell_type": "markdown",
   "metadata": {
    "colab_type": "text",
    "id": "2NfZKw9oHiRb"
   },
   "source": [
    "<h3><p><u>Plotting mean-squared errors with respect to Ea values </u></p>"
   ]
  },
  {
   "cell_type": "code",
   "execution_count": 0,
   "metadata": {
    "colab": {
     "base_uri": "https://localhost:8080/",
     "height": 403
    },
    "colab_type": "code",
    "id": "y3AZ8Z1KqG91",
    "outputId": "2f52d171-4fce-4ea5-cd38-b69b1bde3645"
   },
   "outputs": [
    {
     "data": {
      "image/png": "[encoded data removed]",
      "text/plain": [
       "<Figure size 864x432 with 1 Axes>"
      ]
     },
     "metadata": {
      "tags": []
     },
     "output_type": "display_data"
    }
   ],
   "source": [
    "min_mse = [min_error for i in range(len(all_ea))]\n",
    "plt.subplots(figsize=(12, 6))\n",
    "plt.plot(all_ea, mse_per_ea,\"-ro\",label=\"Mean Squared Error\")\n",
    "plt.xlim(4, 41)\n",
    "plt.plot(all_ea,min_mse,\"-bo\",label=\"Lowest Mean Squared Error\")\n",
    "plt.xlabel(\"Ea-values\")    \n",
    "plt.ylabel(\"Mean Squared Error-values\")                               \n",
    "plt.title(\"Mean Squared Error VS Ea\")\n",
    "plt.legend()\n",
    "plt.show()"
   ]
  },
  {
   "cell_type": "markdown",
   "metadata": {
    "colab_type": "text",
    "id": "lRDNJgKP46g6"
   },
   "source": [
    "<p>As we can see that the blue straight-line representing the lowest mean squared error intersects the mean-squared-error curve at its lowest value where Ea-value is found 28. Therefore the optimal Ea calculation is proved to be correct.</p>"
   ]
  },
  {
   "cell_type": "markdown",
   "metadata": {
    "colab_type": "text",
    "id": "nFGNKC5gBR_8"
   },
   "source": [
    "### Problem 2-4: (4pts)\n",
    "\n",
    "Using the $D_j$ dates from problem 2-1, the average $DTS_{mean}$ from 2-2, and the best-fit $E_{a}^{*}$ from 2-3, predict the bloom-dates $BD_j$ for the years in the test set. Determine the error between your predicted $BD_j$ values and the actual values, and evaluate this model using the coefficient of determination ($R^2$ score)."
   ]
  },
  {
   "cell_type": "markdown",
   "metadata": {
    "colab_type": "text",
    "id": "Tj3o9dD4IF4s"
   },
   "source": [
    "<h3><p><u>Predicting bloom-dates of test-years using the best Ea and DTSmean</u></p>"
   ]
  },
  {
   "cell_type": "code",
   "execution_count": 0,
   "metadata": {
    "colab": {},
    "colab_type": "code",
    "collapsed": true,
    "id": "h-tMR3nc1DC6"
   },
   "outputs": [],
   "source": [
    "predicted_bloom_dates = []\n",
    "predicted_bloom_days = []\n",
    "testdb['avg temp kelvin'] = testdb['avg temp']+273.15\n",
    "for count in range(len(testyears)):\n",
    "  beginPeriod = testdb[(testdb.year == testyears[count]) & (testdb.month == 2) & (testdb.day == dj_test[count])].index[0]\n",
    "  begin_date = date(testyears[count], int(testdb[beginPeriod:beginPeriod+1]['month']), int(testdb[beginPeriod:beginPeriod+1]['day']))\n",
    "  threshold_dts = 0\n",
    "  while(threshold_dts < best_dtsm):\n",
    "    avg_temp = float(testdb[beginPeriod:beginPeriod+1]['avg temp kelvin'])\n",
    "    ts = np.exp((best_ea*(avg_temp-const_temp))/(avg_temp*const_temp*0.00198588))\n",
    "    threshold_dts = threshold_dts + ts\n",
    "    beginPeriod = beginPeriod+1\n",
    "  endPeriod = beginPeriod\n",
    "  bloom_date = date(testyears[count], int(testdb[endPeriod:endPeriod+1]['month']), int(testdb[endPeriod:endPeriod+1]['day']))\n",
    "  bloom_duration = bloom_date - begin_date\n",
    "  predicted_bloom_dates.append(bloom_date)\n",
    "  predicted_bloom_days.append(bloom_duration.days-1)"
   ]
  },
  {
   "cell_type": "markdown",
   "metadata": {
    "colab_type": "text",
    "id": "e6kiPef_IiRT"
   },
   "source": [
    "<h3><p><u>Storring actual bloom-dates for each test-year</u></p>"
   ]
  },
  {
   "cell_type": "code",
   "execution_count": 0,
   "metadata": {
    "colab": {},
    "colab_type": "code",
    "collapsed": true,
    "id": "N3pmi4DOBSAB"
   },
   "outputs": [],
   "source": [
    "actual_bloom_days = []\n",
    "actual_bloom_dates = []\n",
    "for count in range(len(testyears)):\n",
    "  marginPeriod = testdb[(testdb.year == testyears[count]) & (testdb.month == 2) & (testdb.day == 1)].index[0]\n",
    "  margin_date = date(testyears[count], int(testdb[marginPeriod:marginPeriod+1]['month']), int(testdb[marginPeriod:marginPeriod+1]['day']))\n",
    "  beginPeriod = testdb[(testdb.year == testyears[count]) & (testdb.month == 2) & (testdb.day == dj_test[count])].index[0]\n",
    "  begin_date = date(testyears[count], int(testdb[beginPeriod:beginPeriod+1]['month']), int(testdb[beginPeriod:beginPeriod+1]['day']))\n",
    "  endPeriod = testdb[(testdb.year == testyears[count]) & (testdb.bloom == 1)].index[0]\n",
    "  bloom_date = date(testyears[count], int(testdb[endPeriod:endPeriod+1]['month']), int(testdb[endPeriod:endPeriod+1]['day']))\n",
    "  bloom_duration = bloom_date - begin_date\n",
    "  actual_bloom_days.append(bloom_duration.days)\n",
    "  actual_bloom_dates.append(bloom_date) "
   ]
  },
  {
   "cell_type": "markdown",
   "metadata": {
    "colab_type": "text",
    "id": "eiBwi9uyI1YY"
   },
   "source": [
    "<h3><p><u>Visualizing prediction-errors on test-db</u></p>"
   ]
  },
  {
   "cell_type": "code",
   "execution_count": 0,
   "metadata": {
    "colab": {
     "base_uri": "https://localhost:8080/",
     "height": 238
    },
    "colab_type": "code",
    "id": "05aKFaY53qTv",
    "outputId": "67430502-69d1-4ea3-a2ab-b750027333b6"
   },
   "outputs": [
    {
     "name": "stdout",
     "output_type": "stream",
     "text": [
      "Comparison of Predicted-Bloom-dates \n",
      " with respect to Actual bloom-dates\n"
     ]
    },
    {
     "data": {
      "text/html": [
       "<div>\n",
       "<style scoped>\n",
       "    .dataframe tbody tr th:only-of-type {\n",
       "        vertical-align: middle;\n",
       "    }\n",
       "\n",
       "    .dataframe tbody tr th {\n",
       "        vertical-align: top;\n",
       "    }\n",
       "\n",
       "    .dataframe thead th {\n",
       "        text-align: right;\n",
       "    }\n",
       "</style>\n",
       "<table border=\"1\" class=\"dataframe\">\n",
       "  <thead>\n",
       "    <tr style=\"text-align: right;\">\n",
       "      <th></th>\n",
       "      <th>Actual-bloom-dates</th>\n",
       "      <th>Predicted-bloom-dates</th>\n",
       "      <th>Prediction-error</th>\n",
       "    </tr>\n",
       "  </thead>\n",
       "  <tbody>\n",
       "    <tr>\n",
       "      <th>0</th>\n",
       "      <td>1966-03-20</td>\n",
       "      <td>1966-03-21</td>\n",
       "      <td>1</td>\n",
       "    </tr>\n",
       "    <tr>\n",
       "      <th>1</th>\n",
       "      <td>1971-03-30</td>\n",
       "      <td>1971-03-30</td>\n",
       "      <td>0</td>\n",
       "    </tr>\n",
       "    <tr>\n",
       "      <th>2</th>\n",
       "      <td>1985-04-03</td>\n",
       "      <td>1985-04-02</td>\n",
       "      <td>1</td>\n",
       "    </tr>\n",
       "    <tr>\n",
       "      <th>3</th>\n",
       "      <td>1994-03-31</td>\n",
       "      <td>1994-04-02</td>\n",
       "      <td>2</td>\n",
       "    </tr>\n",
       "    <tr>\n",
       "      <th>4</th>\n",
       "      <td>2008-03-22</td>\n",
       "      <td>2008-03-24</td>\n",
       "      <td>2</td>\n",
       "    </tr>\n",
       "  </tbody>\n",
       "</table>\n",
       "</div>"
      ],
      "text/plain": [
       "  Actual-bloom-dates Predicted-bloom-dates  Prediction-error\n",
       "0         1966-03-20            1966-03-21                 1\n",
       "1         1971-03-30            1971-03-30                 0\n",
       "2         1985-04-03            1985-04-02                 1\n",
       "3         1994-03-31            1994-04-02                 2\n",
       "4         2008-03-22            2008-03-24                 2"
      ]
     },
     "execution_count": 36,
     "metadata": {
      "tags": []
     },
     "output_type": "execute_result"
    }
   ],
   "source": [
    "ABD = actual_bloom_dates.copy()\n",
    "PRD = predicted_bloom_dates.copy()\n",
    "errors = []\n",
    "\n",
    "for count in range(len(ABD)):\n",
    "  errors.append(abs(ABD[count] - PRD[count]).days)\n",
    "\n",
    "print('Comparison of Predicted-Bloom-dates','\\n','with respect to Actual bloom-dates')  \n",
    "percentile_list = pd.DataFrame({'Actual-bloom-dates' : ABD,\n",
    "                                'Predicted-bloom-dates' : PRD,\n",
    "                                'Prediction-error' : errors})\n",
    "percentile_list"
   ]
  },
  {
   "cell_type": "markdown",
   "metadata": {
    "colab_type": "text",
    "id": "sUc6BDBqJRNm"
   },
   "source": [
    "<h3><p><u>Plotting prediction-errors on test-db</u></p>"
   ]
  },
  {
   "cell_type": "code",
   "execution_count": 0,
   "metadata": {
    "colab": {
     "base_uri": "https://localhost:8080/",
     "height": 349
    },
    "colab_type": "code",
    "id": "dL8zzQCz3zsk",
    "outputId": "e240255b-acb3-4a6e-bdd0-556d43c4de11"
   },
   "outputs": [
    {
     "data": {
      "image/png": "[encoded data removed]",
      "text/plain": [
       "<Figure size 576x360 with 1 Axes>"
      ]
     },
     "metadata": {
      "tags": []
     },
     "output_type": "display_data"
    }
   ],
   "source": [
    "ind = np.arange(len(testyears))\n",
    "width = 0.35\n",
    "fig, ax = plt.subplots(figsize=(8, 5))\n",
    "p1 = ax.bar(ind, errors, width, color='r')\n",
    "ax.set_title('Barplot: Prediction error for each year')\n",
    "ax.set_xticks(ind + width / 2)\n",
    "ax.set_xticklabels(testyears)\n",
    "plt.ylabel('Error in Days')\n",
    "plt.xlabel('Test years')\n",
    "plt.ylim(0, 3)\n",
    "plt.show()"
   ]
  },
  {
   "cell_type": "markdown",
   "metadata": {
    "colab_type": "text",
    "id": "ptwWXnW5J0ey"
   },
   "source": [
    "<h3>Plot-discussion</h3>\n",
    "<p><u></u><br>From the above error-plot it is observed that the errors generated by the DTS method is much less than the Tmean method of problem 1. Here the maximum-error is also decreased by half compared to the Tmean method. For the first three samples the difference in between actual and predicted bloom-days was only one day maximum. </p>"
   ]
  },
  {
   "cell_type": "markdown",
   "metadata": {
    "colab_type": "text",
    "id": "prXVM8OxLR_t"
   },
   "source": [
    "<p><u>Calculating R2 score</u></p>"
   ]
  },
  {
   "cell_type": "code",
   "execution_count": 0,
   "metadata": {
    "colab": {
     "base_uri": "https://localhost:8080/",
     "height": 34
    },
    "colab_type": "code",
    "id": "B69uJtjc_ZWn",
    "outputId": "a433f3f8-7342-40b3-8b6f-d0da02836c85"
   },
   "outputs": [
    {
     "name": "stdout",
     "output_type": "stream",
     "text": [
      "Final R2-score for the Linear-regression model:  0.9712171052631579\n"
     ]
    }
   ],
   "source": [
    "actual_bloom_days_dts = actual_bloom_days\n",
    "predicted_bloom_days_by_dts = predicted_bloom_days\n",
    "print('Final R2-score for the Linear-regression model: ',r2_score(actual_bloom_days, predicted_bloom_days))"
   ]
  },
  {
   "cell_type": "markdown",
   "metadata": {
    "colab_type": "text",
    "id": "m6ZY7JaMBSAM"
   },
   "source": [
    "### Problem 2-5: (extra 10pts)\n",
    "Discuss any improvements you could make to the model outlined above. If you have a suggestion in particular, describe it. How much do you think the accuracy would be improved?"
   ]
  },
  {
   "cell_type": "markdown",
   "metadata": {
    "colab_type": "text",
    "collapsed": true,
    "id": "u2gz4xQ3BSAO"
   },
   "source": [
    "1.According to the mentioned model and datasets, there is an assumption that the average temperature of a single day is sustained throughout the day. This is not the case in real life as the temperature can flactuate even from hour to hour. So if the fluctuations of the temperature could be added, the accuracy and could possibly be improved.\n",
    "\n",
    "\n",
    "\n",
    "2.There are different species of cherry trees from the Prunus genus. Different species of trees might have different type if implecations to different changes of variables. We did not take that into account. If we can take those things into consideration, accuracy might be improved."
   ]
  },
  {
   "cell_type": "markdown",
   "metadata": {
    "colab_type": "text",
    "id": "ZkUMGcu5FDYe"
   },
   "source": [
    "<h3><p><u>Discussion on Improvement of the Model</u><br><br></h3>\n",
    "\n",
    "  <ul>1. Number of years taken into consideration for both training and testing should be increased for better resolution.</ul> \n",
    "  <ul>2. More features relevant to sakura-blooming could be considered alongside the temperature.</ul> \n",
    "  <ul>3. The assumptions made to establish the model might not withstand under certain circumstances.</ul> \n",
    "       <ul>4. Both the Arrhenius activation energy Ea and the rate constant k are experimentally determined</ul>\n",
    "    <ul>5. The equation of Hayashi et al.(2012) for determining the end of Hibernation is just a mere approximation. It can be modified considering discrepencies.</ul>\n",
    "       <ul>6. Catalysts increase the rate of reaction. Presence of such catalysts in an area's soil can be investigated</ul>\n",
    "       <ul>7. The activation energy for the reaction increases with temperature. So Ea decreases with T and therefore Ea is not completely independent of T</ul>\n",
    "  <ul>8. R-squared score can sometime mislead. The score may also be too-low or too-high when the test-dataset is smaller. Proper alternative can be taken into consideration to justify model-performance.</ul> <br>\n",
    "These are the suggestions in particular. I believe the prediction can be perfected further by applying several modifications in the equations and training the model with more data</p>"
   ]
  },
  {
   "cell_type": "markdown",
   "metadata": {
    "colab_type": "text",
    "id": "5DvFWiJuBSAR"
   },
   "source": [
    "***\n",
    "## 3. Predicting Bloom-date via Neural Network (30pts total)"
   ]
  },
  {
   "cell_type": "markdown",
   "metadata": {
    "colab_type": "text",
    "id": "o_NoKxggBSAW"
   },
   "source": [
    "### Problem 3-1: (20pts)\n",
    "\n",
    "Build a neural network and train it on the data from the training years. Use this model to predict the bloom-dates for each year in the test set. Evaluate the error between predicted dates and actual dates using the coefficient of determination (R2 score). Only use the weather data given in `tokyo.csv` and the sakura data acquired in problem 0-1.</br>\n",
    "You may use whichever framework or strategy that you like to construct the network. "
   ]
  },
  {
   "cell_type": "code",
   "execution_count": 0,
   "metadata": {
    "colab": {},
    "colab_type": "code",
    "collapsed": true,
    "id": "5Ayuuu7XRUBx"
   },
   "outputs": [],
   "source": [
    "sakurayears = sakuradb['year'].unique().tolist()\n",
    "sakurayears = sakurayears[ 0 : -1]\n",
    "actual_bloom_days = []\n",
    "#get actual bloom-dates\n",
    "for year in sakurayears: \n",
    "  beginPeriod = sakuradb[(sakuradb.year == year) & (sakuradb.month == 1) & (sakuradb.day == 1)].index[0]\n",
    "  begin_date = date(year, int(sakuradb[beginPeriod:beginPeriod+1]['month']), int(sakuradb[beginPeriod:beginPeriod+1]['day']))\n",
    "  endPeriod = sakuradb[(sakuradb.year == year) & (sakuradb.bloom == 1)].index[0]\n",
    "  bloom_date = date(year, int(sakuradb[endPeriod:endPeriod+1]['month']), int(sakuradb[endPeriod:endPeriod+1]['day']))\n",
    "  bloom_duration = (bloom_date - begin_date)\n",
    "  actual_bloom_days.append(bloom_duration.days)\n",
    "  \n",
    "columns = list(sakuradb)[4:-1]\n",
    "\n",
    "all_column_mean = []\n",
    "for column in columns:\n",
    "  column_mean_per_year = []\n",
    "  for year in sakurayears:\n",
    "    beginPeriod = sakuradb[(sakuradb.year == year) & (sakuradb.month == 1) & (sakuradb.day == 1)].index[0]\n",
    "    endPeriod = sakuradb[(sakuradb.year == year) & (sakuradb.month == 4) & (sakuradb.day == 30)].index[0]\n",
    "    #duration = traindb[beginPeriod:endPeriod]\n",
    "    duration = sakuradb[beginPeriod:endPeriod+1]\n",
    "    mean = duration[column].mean()\n",
    "    column_mean_per_year.append(mean)\n",
    "  all_column_mean.append(column_mean_per_year)  "
   ]
  },
  {
   "cell_type": "code",
   "execution_count": 0,
   "metadata": {
    "colab": {},
    "colab_type": "code",
    "collapsed": true,
    "id": "Mmv7NInKz8z_"
   },
   "outputs": [],
   "source": [
    "#len(dtsj_per_ea[23])\n",
    "#len(sakuradb)"
   ]
  },
  {
   "cell_type": "code",
   "execution_count": 0,
   "metadata": {
    "colab": {
     "base_uri": "https://localhost:8080/",
     "height": 328
    },
    "colab_type": "code",
    "id": "HRxUDiS95QxY",
    "outputId": "1a596297-6c01-4375-bac5-43d25d828530"
   },
   "outputs": [
    {
     "data": {
      "text/html": [
       "<div>\n",
       "<style scoped>\n",
       "    .dataframe tbody tr th:only-of-type {\n",
       "        vertical-align: middle;\n",
       "    }\n",
       "\n",
       "    .dataframe tbody tr th {\n",
       "        vertical-align: top;\n",
       "    }\n",
       "\n",
       "    .dataframe thead th {\n",
       "        text-align: right;\n",
       "    }\n",
       "</style>\n",
       "<table border=\"1\" class=\"dataframe\">\n",
       "  <thead>\n",
       "    <tr style=\"text-align: right;\">\n",
       "      <th></th>\n",
       "      <th>local pressure</th>\n",
       "      <th>sea pressure</th>\n",
       "      <th>total preci</th>\n",
       "      <th>hr1 preci</th>\n",
       "      <th>min10 preci</th>\n",
       "      <th>avg temp</th>\n",
       "      <th>max temp</th>\n",
       "      <th>min temp</th>\n",
       "      <th>avg humid</th>\n",
       "      <th>min humid</th>\n",
       "      <th>sun hours</th>\n",
       "      <th>bloom day</th>\n",
       "      <th>year</th>\n",
       "    </tr>\n",
       "  </thead>\n",
       "  <tbody>\n",
       "    <tr>\n",
       "      <th>0</th>\n",
       "      <td>1014.5358</td>\n",
       "      <td>1015.2492</td>\n",
       "      <td>3.1017</td>\n",
       "      <td>0.9992</td>\n",
       "      <td>0.3058</td>\n",
       "      <td>7.8333</td>\n",
       "      <td>13.1867</td>\n",
       "      <td>3.3633</td>\n",
       "      <td>56.7917</td>\n",
       "      <td>35.6917</td>\n",
       "      <td>6.4033</td>\n",
       "      <td>90</td>\n",
       "      <td>1961</td>\n",
       "    </tr>\n",
       "    <tr>\n",
       "      <th>1</th>\n",
       "      <td>1012.7275</td>\n",
       "      <td>1013.4400</td>\n",
       "      <td>2.0308</td>\n",
       "      <td>0.6017</td>\n",
       "      <td>0.2000</td>\n",
       "      <td>8.2167</td>\n",
       "      <td>13.6117</td>\n",
       "      <td>3.3400</td>\n",
       "      <td>55.0167</td>\n",
       "      <td>33.8167</td>\n",
       "      <td>6.6508</td>\n",
       "      <td>90</td>\n",
       "      <td>1962</td>\n",
       "    </tr>\n",
       "    <tr>\n",
       "      <th>2</th>\n",
       "      <td>1012.3967</td>\n",
       "      <td>1013.1100</td>\n",
       "      <td>1.5358</td>\n",
       "      <td>0.4075</td>\n",
       "      <td>0.1175</td>\n",
       "      <td>7.3908</td>\n",
       "      <td>12.8475</td>\n",
       "      <td>2.6150</td>\n",
       "      <td>55.4750</td>\n",
       "      <td>33.6583</td>\n",
       "      <td>6.8617</td>\n",
       "      <td>90</td>\n",
       "      <td>1963</td>\n",
       "    </tr>\n",
       "    <tr>\n",
       "      <th>3</th>\n",
       "      <td>1017.6661</td>\n",
       "      <td>1018.3777</td>\n",
       "      <td>3.3264</td>\n",
       "      <td>0.8893</td>\n",
       "      <td>0.2223</td>\n",
       "      <td>8.1273</td>\n",
       "      <td>12.5529</td>\n",
       "      <td>4.1091</td>\n",
       "      <td>62.0248</td>\n",
       "      <td>43.5868</td>\n",
       "      <td>4.9835</td>\n",
       "      <td>92</td>\n",
       "      <td>1964</td>\n",
       "    </tr>\n",
       "    <tr>\n",
       "      <th>4</th>\n",
       "      <td>1009.8208</td>\n",
       "      <td>1014.2183</td>\n",
       "      <td>1.5833</td>\n",
       "      <td>0.5333</td>\n",
       "      <td>0.2208</td>\n",
       "      <td>6.7992</td>\n",
       "      <td>11.2733</td>\n",
       "      <td>2.6267</td>\n",
       "      <td>53.0250</td>\n",
       "      <td>34.9917</td>\n",
       "      <td>6.6633</td>\n",
       "      <td>91</td>\n",
       "      <td>1965</td>\n",
       "    </tr>\n",
       "    <tr>\n",
       "      <th>5</th>\n",
       "      <td>1009.5825</td>\n",
       "      <td>1013.9542</td>\n",
       "      <td>3.1600</td>\n",
       "      <td>1.0558</td>\n",
       "      <td>0.3342</td>\n",
       "      <td>8.7483</td>\n",
       "      <td>13.0767</td>\n",
       "      <td>4.4858</td>\n",
       "      <td>55.6833</td>\n",
       "      <td>38.0667</td>\n",
       "      <td>5.2367</td>\n",
       "      <td>78</td>\n",
       "      <td>1966</td>\n",
       "    </tr>\n",
       "    <tr>\n",
       "      <th>6</th>\n",
       "      <td>1012.8858</td>\n",
       "      <td>1017.2792</td>\n",
       "      <td>2.0867</td>\n",
       "      <td>0.6800</td>\n",
       "      <td>0.1833</td>\n",
       "      <td>8.3700</td>\n",
       "      <td>12.6458</td>\n",
       "      <td>4.0408</td>\n",
       "      <td>53.7750</td>\n",
       "      <td>37.4417</td>\n",
       "      <td>5.9150</td>\n",
       "      <td>88</td>\n",
       "      <td>1967</td>\n",
       "    </tr>\n",
       "    <tr>\n",
       "      <th>7</th>\n",
       "      <td>1010.8570</td>\n",
       "      <td>1015.2388</td>\n",
       "      <td>2.2231</td>\n",
       "      <td>0.7066</td>\n",
       "      <td>0.2686</td>\n",
       "      <td>8.5711</td>\n",
       "      <td>13.0562</td>\n",
       "      <td>4.2050</td>\n",
       "      <td>51.5620</td>\n",
       "      <td>33.9421</td>\n",
       "      <td>6.4050</td>\n",
       "      <td>88</td>\n",
       "      <td>1968</td>\n",
       "    </tr>\n",
       "    <tr>\n",
       "      <th>8</th>\n",
       "      <td>1011.0767</td>\n",
       "      <td>1015.4667</td>\n",
       "      <td>2.9042</td>\n",
       "      <td>0.7792</td>\n",
       "      <td>0.2792</td>\n",
       "      <td>8.4783</td>\n",
       "      <td>12.6425</td>\n",
       "      <td>4.2750</td>\n",
       "      <td>58.8083</td>\n",
       "      <td>40.1083</td>\n",
       "      <td>5.0275</td>\n",
       "      <td>95</td>\n",
       "      <td>1969</td>\n",
       "    </tr>\n",
       "  </tbody>\n",
       "</table>\n",
       "</div>"
      ],
      "text/plain": [
       "   local pressure  sea pressure  total preci  hr1 preci  min10 preci  \\\n",
       "0       1014.5358     1015.2492       3.1017     0.9992       0.3058   \n",
       "1       1012.7275     1013.4400       2.0308     0.6017       0.2000   \n",
       "2       1012.3967     1013.1100       1.5358     0.4075       0.1175   \n",
       "3       1017.6661     1018.3777       3.3264     0.8893       0.2223   \n",
       "4       1009.8208     1014.2183       1.5833     0.5333       0.2208   \n",
       "5       1009.5825     1013.9542       3.1600     1.0558       0.3342   \n",
       "6       1012.8858     1017.2792       2.0867     0.6800       0.1833   \n",
       "7       1010.8570     1015.2388       2.2231     0.7066       0.2686   \n",
       "8       1011.0767     1015.4667       2.9042     0.7792       0.2792   \n",
       "\n",
       "   avg temp  max temp  min temp  avg humid  min humid  sun hours  bloom day  \\\n",
       "0    7.8333   13.1867    3.3633    56.7917    35.6917     6.4033         90   \n",
       "1    8.2167   13.6117    3.3400    55.0167    33.8167     6.6508         90   \n",
       "2    7.3908   12.8475    2.6150    55.4750    33.6583     6.8617         90   \n",
       "3    8.1273   12.5529    4.1091    62.0248    43.5868     4.9835         92   \n",
       "4    6.7992   11.2733    2.6267    53.0250    34.9917     6.6633         91   \n",
       "5    8.7483   13.0767    4.4858    55.6833    38.0667     5.2367         78   \n",
       "6    8.3700   12.6458    4.0408    53.7750    37.4417     5.9150         88   \n",
       "7    8.5711   13.0562    4.2050    51.5620    33.9421     6.4050         88   \n",
       "8    8.4783   12.6425    4.2750    58.8083    40.1083     5.0275         95   \n",
       "\n",
       "   year  \n",
       "0  1961  \n",
       "1  1962  \n",
       "2  1963  \n",
       "3  1964  \n",
       "4  1965  \n",
       "5  1966  \n",
       "6  1967  \n",
       "7  1968  \n",
       "8  1969  "
      ]
     },
     "execution_count": 41,
     "metadata": {
      "tags": []
     },
     "output_type": "execute_result"
    }
   ],
   "source": [
    "sakuradb = pd.DataFrame(all_column_mean).T\n",
    "sakuradb.columns = columns\n",
    "sakuradb['bloom day'] = actual_bloom_days\n",
    "sakuradb['year'] = sakurayears\n",
    "sakuradb.head(9)"
   ]
  },
  {
   "cell_type": "code",
   "execution_count": 0,
   "metadata": {
    "colab": {
     "base_uri": "https://localhost:8080/",
     "height": 34
    },
    "colab_type": "code",
    "id": "irkzb1lH6E8w",
    "outputId": "fa37e8c8-349e-43a0-e5c3-50050385b8a5"
   },
   "outputs": [
    {
     "data": {
      "text/plain": [
       "(56, 13)"
      ]
     },
     "execution_count": 42,
     "metadata": {
      "tags": []
     },
     "output_type": "execute_result"
    }
   ],
   "source": [
    "sakuradb.shape"
   ]
  },
  {
   "cell_type": "code",
   "execution_count": 0,
   "metadata": {
    "colab": {
     "base_uri": "https://localhost:8080/",
     "height": 34
    },
    "colab_type": "code",
    "id": "M0lS59P90YYN",
    "outputId": "4bc56b22-2743-44c5-b3ac-670367258205"
   },
   "outputs": [
    {
     "data": {
      "text/plain": [
       "52"
      ]
     },
     "execution_count": 43,
     "metadata": {
      "tags": []
     },
     "output_type": "execute_result"
    }
   ],
   "source": [
    "len(dtsj_per_ea[23])"
   ]
  },
  {
   "cell_type": "code",
   "execution_count": 0,
   "metadata": {
    "colab": {
     "base_uri": "https://localhost:8080/",
     "height": 34
    },
    "colab_type": "code",
    "id": "orihjfFN5bDw",
    "outputId": "0eb5b06b-ce07-4ed3-9002-f55377a89886"
   },
   "outputs": [
    {
     "data": {
      "text/plain": [
       "56"
      ]
     },
     "execution_count": 44,
     "metadata": {
      "tags": []
     },
     "output_type": "execute_result"
    }
   ],
   "source": [
    "#Split train and test \n",
    "traindb = sakuradb[(sakuradb.year != 1966)& (sakuradb.year != 1971)& (sakuradb.year != 1985)& \n",
    "                   (sakuradb.year != 1994)& (sakuradb.year != 2008)]\n",
    "#traindb['DTSj'] = dtsj_per_ea[23]\n",
    "traindb = traindb.reset_index(drop=True)\n",
    "testdb = sakuradb[(sakuradb.year == 1966)| (sakuradb.year == 1971)| (sakuradb.year == 1985)| \n",
    "                  (sakuradb.year == 1994)| (sakuradb.year == 2008)]\n",
    "testdb = testdb.reset_index(drop=True)\n",
    "testdb.shape[0]+traindb.shape[0]"
   ]
  },
  {
   "cell_type": "code",
   "execution_count": 0,
   "metadata": {
    "colab": {
     "base_uri": "https://localhost:8080/",
     "height": 204
    },
    "colab_type": "code",
    "id": "dzDWrqKL0pBp",
    "outputId": "e64b518b-dfb7-4ac2-be29-0ece7476ada7"
   },
   "outputs": [
    {
     "data": {
      "text/html": [
       "<div>\n",
       "<style scoped>\n",
       "    .dataframe tbody tr th:only-of-type {\n",
       "        vertical-align: middle;\n",
       "    }\n",
       "\n",
       "    .dataframe tbody tr th {\n",
       "        vertical-align: top;\n",
       "    }\n",
       "\n",
       "    .dataframe thead th {\n",
       "        text-align: right;\n",
       "    }\n",
       "</style>\n",
       "<table border=\"1\" class=\"dataframe\">\n",
       "  <thead>\n",
       "    <tr style=\"text-align: right;\">\n",
       "      <th></th>\n",
       "      <th>local pressure</th>\n",
       "      <th>sea pressure</th>\n",
       "      <th>total preci</th>\n",
       "      <th>hr1 preci</th>\n",
       "      <th>min10 preci</th>\n",
       "      <th>avg temp</th>\n",
       "      <th>max temp</th>\n",
       "      <th>min temp</th>\n",
       "      <th>avg humid</th>\n",
       "      <th>min humid</th>\n",
       "      <th>sun hours</th>\n",
       "      <th>bloom day</th>\n",
       "      <th>year</th>\n",
       "    </tr>\n",
       "  </thead>\n",
       "  <tbody>\n",
       "    <tr>\n",
       "      <th>0</th>\n",
       "      <td>1014.5358</td>\n",
       "      <td>1015.2492</td>\n",
       "      <td>3.1017</td>\n",
       "      <td>0.9992</td>\n",
       "      <td>0.3058</td>\n",
       "      <td>7.8333</td>\n",
       "      <td>13.1867</td>\n",
       "      <td>3.3633</td>\n",
       "      <td>56.7917</td>\n",
       "      <td>35.6917</td>\n",
       "      <td>6.4033</td>\n",
       "      <td>90</td>\n",
       "      <td>1961</td>\n",
       "    </tr>\n",
       "    <tr>\n",
       "      <th>1</th>\n",
       "      <td>1012.7275</td>\n",
       "      <td>1013.4400</td>\n",
       "      <td>2.0308</td>\n",
       "      <td>0.6017</td>\n",
       "      <td>0.2000</td>\n",
       "      <td>8.2167</td>\n",
       "      <td>13.6117</td>\n",
       "      <td>3.3400</td>\n",
       "      <td>55.0167</td>\n",
       "      <td>33.8167</td>\n",
       "      <td>6.6508</td>\n",
       "      <td>90</td>\n",
       "      <td>1962</td>\n",
       "    </tr>\n",
       "    <tr>\n",
       "      <th>2</th>\n",
       "      <td>1012.3967</td>\n",
       "      <td>1013.1100</td>\n",
       "      <td>1.5358</td>\n",
       "      <td>0.4075</td>\n",
       "      <td>0.1175</td>\n",
       "      <td>7.3908</td>\n",
       "      <td>12.8475</td>\n",
       "      <td>2.6150</td>\n",
       "      <td>55.4750</td>\n",
       "      <td>33.6583</td>\n",
       "      <td>6.8617</td>\n",
       "      <td>90</td>\n",
       "      <td>1963</td>\n",
       "    </tr>\n",
       "    <tr>\n",
       "      <th>3</th>\n",
       "      <td>1017.6661</td>\n",
       "      <td>1018.3777</td>\n",
       "      <td>3.3264</td>\n",
       "      <td>0.8893</td>\n",
       "      <td>0.2223</td>\n",
       "      <td>8.1273</td>\n",
       "      <td>12.5529</td>\n",
       "      <td>4.1091</td>\n",
       "      <td>62.0248</td>\n",
       "      <td>43.5868</td>\n",
       "      <td>4.9835</td>\n",
       "      <td>92</td>\n",
       "      <td>1964</td>\n",
       "    </tr>\n",
       "    <tr>\n",
       "      <th>4</th>\n",
       "      <td>1009.8208</td>\n",
       "      <td>1014.2183</td>\n",
       "      <td>1.5833</td>\n",
       "      <td>0.5333</td>\n",
       "      <td>0.2208</td>\n",
       "      <td>6.7992</td>\n",
       "      <td>11.2733</td>\n",
       "      <td>2.6267</td>\n",
       "      <td>53.0250</td>\n",
       "      <td>34.9917</td>\n",
       "      <td>6.6633</td>\n",
       "      <td>91</td>\n",
       "      <td>1965</td>\n",
       "    </tr>\n",
       "  </tbody>\n",
       "</table>\n",
       "</div>"
      ],
      "text/plain": [
       "   local pressure  sea pressure  total preci  hr1 preci  min10 preci  \\\n",
       "0       1014.5358     1015.2492       3.1017     0.9992       0.3058   \n",
       "1       1012.7275     1013.4400       2.0308     0.6017       0.2000   \n",
       "2       1012.3967     1013.1100       1.5358     0.4075       0.1175   \n",
       "3       1017.6661     1018.3777       3.3264     0.8893       0.2223   \n",
       "4       1009.8208     1014.2183       1.5833     0.5333       0.2208   \n",
       "\n",
       "   avg temp  max temp  min temp  avg humid  min humid  sun hours  bloom day  \\\n",
       "0    7.8333   13.1867    3.3633    56.7917    35.6917     6.4033         90   \n",
       "1    8.2167   13.6117    3.3400    55.0167    33.8167     6.6508         90   \n",
       "2    7.3908   12.8475    2.6150    55.4750    33.6583     6.8617         90   \n",
       "3    8.1273   12.5529    4.1091    62.0248    43.5868     4.9835         92   \n",
       "4    6.7992   11.2733    2.6267    53.0250    34.9917     6.6633         91   \n",
       "\n",
       "   year  \n",
       "0  1961  \n",
       "1  1962  \n",
       "2  1963  \n",
       "3  1964  \n",
       "4  1965  "
      ]
     },
     "execution_count": 45,
     "metadata": {
      "tags": []
     },
     "output_type": "execute_result"
    }
   ],
   "source": [
    "traindb.head()"
   ]
  },
  {
   "cell_type": "code",
   "execution_count": 0,
   "metadata": {
    "colab": {
     "base_uri": "https://localhost:8080/",
     "height": 204
    },
    "colab_type": "code",
    "id": "YaA5uqE16QSP",
    "outputId": "f5792aa4-83b5-4ac9-cc43-f954ee7cf878"
   },
   "outputs": [
    {
     "data": {
      "text/html": [
       "<div>\n",
       "<style scoped>\n",
       "    .dataframe tbody tr th:only-of-type {\n",
       "        vertical-align: middle;\n",
       "    }\n",
       "\n",
       "    .dataframe tbody tr th {\n",
       "        vertical-align: top;\n",
       "    }\n",
       "\n",
       "    .dataframe thead th {\n",
       "        text-align: right;\n",
       "    }\n",
       "</style>\n",
       "<table border=\"1\" class=\"dataframe\">\n",
       "  <thead>\n",
       "    <tr style=\"text-align: right;\">\n",
       "      <th></th>\n",
       "      <th>local pressure</th>\n",
       "      <th>sea pressure</th>\n",
       "      <th>total preci</th>\n",
       "      <th>hr1 preci</th>\n",
       "      <th>min10 preci</th>\n",
       "      <th>avg temp</th>\n",
       "      <th>max temp</th>\n",
       "      <th>min temp</th>\n",
       "      <th>avg humid</th>\n",
       "      <th>min humid</th>\n",
       "      <th>sun hours</th>\n",
       "      <th>bloom day</th>\n",
       "      <th>year</th>\n",
       "    </tr>\n",
       "  </thead>\n",
       "  <tbody>\n",
       "    <tr>\n",
       "      <th>0</th>\n",
       "      <td>1009.5825</td>\n",
       "      <td>1013.9542</td>\n",
       "      <td>3.1600</td>\n",
       "      <td>1.0558</td>\n",
       "      <td>0.3342</td>\n",
       "      <td>8.7483</td>\n",
       "      <td>13.0767</td>\n",
       "      <td>4.4858</td>\n",
       "      <td>55.6833</td>\n",
       "      <td>38.0667</td>\n",
       "      <td>5.2367</td>\n",
       "      <td>78</td>\n",
       "      <td>1966</td>\n",
       "    </tr>\n",
       "    <tr>\n",
       "      <th>1</th>\n",
       "      <td>1010.9492</td>\n",
       "      <td>1015.3467</td>\n",
       "      <td>2.2625</td>\n",
       "      <td>0.6750</td>\n",
       "      <td>0.2250</td>\n",
       "      <td>8.2192</td>\n",
       "      <td>12.4325</td>\n",
       "      <td>4.2917</td>\n",
       "      <td>54.9500</td>\n",
       "      <td>36.7250</td>\n",
       "      <td>5.8192</td>\n",
       "      <td>88</td>\n",
       "      <td>1971</td>\n",
       "    </tr>\n",
       "    <tr>\n",
       "      <th>2</th>\n",
       "      <td>1012.2500</td>\n",
       "      <td>1016.6433</td>\n",
       "      <td>4.0208</td>\n",
       "      <td>1.0833</td>\n",
       "      <td>0.4042</td>\n",
       "      <td>8.1217</td>\n",
       "      <td>11.9217</td>\n",
       "      <td>4.6758</td>\n",
       "      <td>61.7750</td>\n",
       "      <td>43.2667</td>\n",
       "      <td>5.0992</td>\n",
       "      <td>92</td>\n",
       "      <td>1985</td>\n",
       "    </tr>\n",
       "    <tr>\n",
       "      <th>3</th>\n",
       "      <td>1010.1483</td>\n",
       "      <td>1014.5233</td>\n",
       "      <td>2.5167</td>\n",
       "      <td>0.8042</td>\n",
       "      <td>0.2458</td>\n",
       "      <td>8.9967</td>\n",
       "      <td>12.7792</td>\n",
       "      <td>5.3492</td>\n",
       "      <td>52.8333</td>\n",
       "      <td>34.4750</td>\n",
       "      <td>6.2283</td>\n",
       "      <td>89</td>\n",
       "      <td>1994</td>\n",
       "    </tr>\n",
       "    <tr>\n",
       "      <th>4</th>\n",
       "      <td>1011.2512</td>\n",
       "      <td>1015.7050</td>\n",
       "      <td>3.5868</td>\n",
       "      <td>1.0248</td>\n",
       "      <td>0.3471</td>\n",
       "      <td>9.2132</td>\n",
       "      <td>13.0702</td>\n",
       "      <td>5.8116</td>\n",
       "      <td>49.3058</td>\n",
       "      <td>31.2975</td>\n",
       "      <td>5.9240</td>\n",
       "      <td>81</td>\n",
       "      <td>2008</td>\n",
       "    </tr>\n",
       "  </tbody>\n",
       "</table>\n",
       "</div>"
      ],
      "text/plain": [
       "   local pressure  sea pressure  total preci  hr1 preci  min10 preci  \\\n",
       "0       1009.5825     1013.9542       3.1600     1.0558       0.3342   \n",
       "1       1010.9492     1015.3467       2.2625     0.6750       0.2250   \n",
       "2       1012.2500     1016.6433       4.0208     1.0833       0.4042   \n",
       "3       1010.1483     1014.5233       2.5167     0.8042       0.2458   \n",
       "4       1011.2512     1015.7050       3.5868     1.0248       0.3471   \n",
       "\n",
       "   avg temp  max temp  min temp  avg humid  min humid  sun hours  bloom day  \\\n",
       "0    8.7483   13.0767    4.4858    55.6833    38.0667     5.2367         78   \n",
       "1    8.2192   12.4325    4.2917    54.9500    36.7250     5.8192         88   \n",
       "2    8.1217   11.9217    4.6758    61.7750    43.2667     5.0992         92   \n",
       "3    8.9967   12.7792    5.3492    52.8333    34.4750     6.2283         89   \n",
       "4    9.2132   13.0702    5.8116    49.3058    31.2975     5.9240         81   \n",
       "\n",
       "   year  \n",
       "0  1966  \n",
       "1  1971  \n",
       "2  1985  \n",
       "3  1994  \n",
       "4  2008  "
      ]
     },
     "execution_count": 46,
     "metadata": {
      "tags": []
     },
     "output_type": "execute_result"
    }
   ],
   "source": [
    "testdb"
   ]
  },
  {
   "cell_type": "markdown",
   "metadata": {
    "colab_type": "text",
    "id": "nDCyv6fQzr0Y"
   },
   "source": [
    "###12.6 The ANN Model"
   ]
  },
  {
   "cell_type": "code",
   "execution_count": 0,
   "metadata": {
    "colab": {},
    "colab_type": "code",
    "collapsed": true,
    "id": "v0PegBUfzr2G"
   },
   "outputs": [],
   "source": [
    "import csv\n",
    "import pandas as pd\n",
    "import tensorflow as tf\n",
    "import numpy as np\n",
    "import matplotlib.pyplot as plt\n",
    "import numpy as np\n",
    "from sklearn.model_selection import train_test_split\n",
    "from sklearn import preprocessing\n",
    "from sklearn.model_selection import ParameterGrid\n",
    "\n",
    "train = traindb\n",
    "test = testdb\n",
    "zero = 0\n",
    "#Saparating Label: SalePrice column\n",
    "train_raw_labels = train['bloom day'].to_frame().as_matrix()\n",
    "test_raw_labels = test['bloom day'].to_frame().as_matrix()\n",
    "\n",
    "#process data: Just creating dummies\n",
    "def pre_process_data(df):\n",
    "   \n",
    "    # one-hot encode categorical values\n",
    "    df = pd.get_dummies(df)\n",
    "\n",
    "    return df\n",
    "\n",
    "#Preprocess data by creating dummies: one-hot encoding\n",
    "train_pre = pre_process_data(train)\n",
    "test_pre = pre_process_data(test)\n",
    "\n",
    "train_pre = train_pre.drop(['bloom day'], axis=1)\n",
    "test_pre = test_pre.drop(['bloom day'], axis=1)\n",
    "\n",
    "#Join train and test DB\n",
    "train_pre, test_pre = train_pre.align(test_pre, join='outer', axis=1)\n",
    "\n",
    "#Replace all missing-values(if still any) with Zero\n",
    "train_pre.replace(to_replace=np.nan, value=zero, inplace=True)\n",
    "test_pre.replace(to_replace=np.nan, value=zero, inplace=True)\n",
    "\n",
    "#Creating matrix from train and test data\n",
    "train_pre = train_pre.as_matrix().astype(np.float)\n",
    "test_pre = test_pre.as_matrix().astype(np.float)\n",
    "\n",
    "#Scale data using Standard-Scaler\n",
    "standard_scaler = preprocessing.StandardScaler()\n",
    "train_pre = standard_scaler.fit_transform(train_pre)\n",
    "test_pre = standard_scaler.fit_transform(test_pre)"
   ]
  },
  {
   "cell_type": "code",
   "execution_count": 0,
   "metadata": {
    "colab": {},
    "colab_type": "code",
    "collapsed": true,
    "id": "EyuhIaSYv2T0"
   },
   "outputs": [],
   "source": [
    "from sklearn.neural_network import MLPClassifier\n",
    "from sklearn.neural_network import MLPRegressor\n",
    "hl=[11 for i in range(51)]\n",
    "hl=tuple(hl)\n",
    "reg = MLPRegressor(hidden_layer_sizes=hl,activation='identity',solver=\"adam\", \\\n",
    "                                        learning_rate='invscaling',random_state=11)"
   ]
  },
  {
   "cell_type": "code",
   "execution_count": 0,
   "metadata": {
    "colab": {
     "base_uri": "https://localhost:8080/",
     "height": 34
    },
    "colab_type": "code",
    "id": "ttaxdB8wvyqj",
    "outputId": "f38f5703-f739-473f-a9e0-7967fbdb9d35"
   },
   "outputs": [
    {
     "data": {
      "text/plain": [
       "0.934402332361516"
      ]
     },
     "execution_count": 49,
     "metadata": {
      "tags": []
     },
     "output_type": "execute_result"
    }
   ],
   "source": [
    "X_test, noNeedX, Y_test, noNeedY = train_test_split(test_pre, test_raw_labels, test_size=0.0000, random_state=1)\n",
    "X_train, noNeedX, Y_train, noNeedY = train_test_split(train_pre, train_raw_labels, test_size=0.0000, random_state=1)\n",
    "reg=reg.fit(X_train,Y_train)\n",
    "prediction = list(reg.predict(X_test))\n",
    "actual = list(list(np.reshape(Y_test, (1,np.product(Y_test.shape))))[0])\n",
    "prediction = [ math.ceil(elem) for elem in prediction ]\n",
    "actual_bloom_days_ann = actual\n",
    "predicted_bloom_days_by_ann = prediction\n",
    "r2_score(actual,prediction)"
   ]
  },
  {
   "cell_type": "markdown",
   "metadata": {
    "colab_type": "text",
    "id": "owu1m9wlvb5-"
   },
   "source": [
    "### Problem 3-2: (10pts)\n",
    "Compare the performance (via $R^2$ score) of the 3 implementations above: the 600 Degree Rule, the DTS method, and the neural network approach. For all methods, and each test year, plot the predicted date vs. the actual date. Discuss the accuracy and differences of these 3 models."
   ]
  },
  {
   "cell_type": "markdown",
   "metadata": {
    "colab_type": "text",
    "id": "9M1enFapvb6f"
   },
   "source": [
    "<h3><p><u>Comparison of different models</u><br></h3>Lets plot the <i>Prediction VS Reality</i> graph from each of the models for better understanding on how properly the models are fitting the test-data.</p>"
   ]
  },
  {
   "cell_type": "code",
   "execution_count": 0,
   "metadata": {
    "colab": {
     "base_uri": "https://localhost:8080/",
     "height": 568
    },
    "colab_type": "code",
    "id": "mE7uyBiCvb6w",
    "outputId": "ed9e33f2-90e3-4528-b700-2162b0a03663"
   },
   "outputs": [
    {
     "data": {
      "image/png": "[encoded data removed]",
      "text/plain": [
       "<Figure size 864x648 with 4 Axes>"
      ]
     },
     "metadata": {
      "tags": []
     },
     "output_type": "display_data"
    }
   ],
   "source": [
    "def plot_prediction(actual_labels, prediction,pos,result):\n",
    "    plt.subplot(2,2,pos)\n",
    "    plt.style.use('ggplot')\n",
    "    plt.plot(prediction, actual_labels, 'ro')\n",
    "    plt.plot([min(actual_labels), max(actual_labels)], [min(actual_labels), max(actual_labels)], 'k--', lw=4)\n",
    "    plt.xlabel('Predictions')\n",
    "    plt.ylabel('Reality')\n",
    "    plt.title('Fig.3.'+str(pos)+' Predictions VS Reality for '+result, fontsize=12)\n",
    "    \n",
    "resultDts = r2_score(actual_bloom_days_dts,predicted_bloom_days_by_dts)\n",
    "result600 = r2_score(actual_bloom_days_600degree,predicted_bloom_days_by_t600) \n",
    "resultTmean = r2_score(actual_bloom_days_600degree,predicted_bloom_days_by_tmean)\n",
    "resultAnn = r2_score(actual_bloom_days_ann, predicted_bloom_days_by_ann)\n",
    "\n",
    "plt.figure(figsize=(12, 9))\n",
    "plt.subplots_adjust(wspace=None, hspace=0.3)\n",
    "plot_prediction(actual_bloom_days_600degree,predicted_bloom_days_by_t600,1,\n",
    "                str('600Degree rule. R2-score = {:.3f}'.format(result600)))\n",
    "plot_prediction(actual_bloom_days_600degree,predicted_bloom_days_by_tmean,2,\n",
    "                str('Tmean rule. R2-score = {:.3f}'.format(resultTmean)))\n",
    "plot_prediction(actual_bloom_days_dts,predicted_bloom_days_by_dts,3,\n",
    "                str('DTS method. R2-score = {:.3f}'.format(resultDts)))\n",
    "plot_prediction(actual_bloom_days_ann,predicted_bloom_days_by_ann,4,\n",
    "                str('ANN. R2-score = {:.3f}'.format(resultAnn)))\n",
    "plt.show()"
   ]
  },
  {
   "cell_type": "markdown",
   "metadata": {
    "colab_type": "text",
    "id": "O9iErocQvb7R"
   },
   "source": [
    "<h3><p><u>All plot discussions</u><br></h3>\n",
    "  <ul><u>0.1</u>The performance of Tmean rule(Fig. 3.2) is better than 600 degree rule(Fig. 3.1). This is because the Tmean(=638) value has been modified forTokyo which is 38 degree higher than 600 degree centigrade. The Tmean-rule performs better but it was not that much accurate as two dots are placed far away from marginal line (Fig. 3.2)</ul>\n",
    "  \n",
    "  <ul><u>0.2</u>The DTS method (Fig.3.3) perfoms better than the 600 Degree and Tmean Rule which is obvious because the previous Rules take into account only one feature(Daily Max Temperature) whereas the DTS method goes for a more sophisticated approach taking into account Hibernation pattern, Temperature, Activation Energy, Standard Reaction Time etc. The method has recorded highest R2 score on test dataset.</ul>\n",
    "  \n",
    "<ul><u>0.3</u>Now the Neural Network also performs well (Fig.3.4). One of the major advantage of using ANN is their ability to solve a prediction problem by ust analysing the data-pattern. We do not need to define any mathematical rule or algorithm here. But it requires finding the most optimized network by parameter tuning. Another major drawback is that it cannot learn properly from smaller datasets and its performance is quite unpredictable on smaller test-data which is a major concern in our case. Our test data is too small and therefore any of the tunned model may accidently perform well on test data. we cannot simply expect that the network will perform equally well on large dataset too.</ul>\n",
    "\n",
    "<h3><p><u>Decision</u><br></h3>The DTS method is considered best as its algorithm is well defined and therefore it may perform better on large datasets too. The ANN model also has the potential to perform well. But it needs to be trained and tested using more data for better accuracy</p>\n",
    "\n",
    "</p>"
   ]
  },
  {
   "cell_type": "markdown",
   "metadata": {
    "colab_type": "text",
    "id": "KwFB9nUpBSAq"
   },
   "source": [
    "***\n",
    "## 4. Trends of the Sakura blooming phenomenon (20pts total)"
   ]
  },
  {
   "cell_type": "markdown",
   "metadata": {
    "colab_type": "text",
    "id": "Xs81joX6BSAs"
   },
   "source": [
    "### Problem 4-1: (20pts)\n",
    "Based on the data from the past 60 years, investigate and discuss trends in the sakura hibernation ($D_{j}$) and blooming ($BD_{j}$) phenomena in Tokyo."
   ]
  },
  {
   "cell_type": "markdown",
   "metadata": {
    "colab_type": "text",
    "id": "sut1OO4iNyn1"
   },
   "source": [
    "<h3><p><u>Plotting Dj and BDj with respect to all years</u></p>"
   ]
  },
  {
   "cell_type": "code",
   "execution_count": 0,
   "metadata": {
    "colab": {
     "base_uri": "https://localhost:8080/",
     "height": 296
    },
    "colab_type": "code",
    "id": "BXl18fnQFJ-J",
    "outputId": "7a0aa197-516b-449c-b003-bb51d2337532"
   },
   "outputs": [
    {
     "data": {
      "image/png": "[encoded data removed]",
      "text/plain": [
       "<Figure size 864x288 with 1 Axes>"
      ]
     },
     "metadata": {
      "tags": []
     },
     "output_type": "display_data"
    }
   ],
   "source": [
    "bloom_days = list(sakuradb['bloom day'])\n",
    "avg_temp = list(sakuradb['avg temp'])\n",
    "sea_pressure = list(sakuradb['sea pressure'])\n",
    "\n",
    "addingDj = 0\n",
    "all_avgDj = []\n",
    "all_avgBDj = []\n",
    "for count in range(len(dj_all_by_day)):\n",
    "  addingDj = addingDj + dj_all_by_day[count]\n",
    "  avgDj = addingDj/(count+1)\n",
    "  all_avgDj.append(avgDj)\n",
    "  \n",
    "addingBDj = 0\n",
    "all_avg = []\n",
    "for count in range(len(bloom_days)):\n",
    "  addingBDj = addingBDj+bloom_days[count]\n",
    "  avgBDj = addingBDj/(count+1)\n",
    "  all_avgBDj.append(avgBDj)  \n",
    "\n",
    "plt.subplots(figsize=(12, 4))\n",
    "plt.plot(allyears,dj_all_by_day,'-bo', label= 'Dj')\n",
    "plt.plot(allyears,all_avgDj,'--r',label= 'Dj mean')\n",
    "plt.plot(allyears[0:-1],bloom_days,'-go',label= 'BDj')\n",
    "plt.plot(allyears[0:-1],all_avgBDj,'--y',label= 'BDj mean')\n",
    "plt.xlabel('All Years')\n",
    "plt.ylabel('Days')\n",
    "plt.ylim(30, 110)\n",
    "plt.title('Fig 4.1- Dj and BDj VS all Years', Fontsize = 12)\n",
    "plt.legend()\n",
    "plt.show()"
   ]
  },
  {
   "cell_type": "markdown",
   "metadata": {
    "colab_type": "text",
    "id": "mWdWb5-5PzdV"
   },
   "source": [
    "<h3><p><u>Plotting the Duration of Growth-phase for all years </u></p>"
   ]
  },
  {
   "cell_type": "code",
   "execution_count": 0,
   "metadata": {
    "colab": {
     "base_uri": "https://localhost:8080/",
     "height": 188
    },
    "colab_type": "code",
    "id": "9QLtJ4w1LsfV",
    "outputId": "9480ae83-ba52-4dbf-ce94-255e29260595"
   },
   "outputs": [
    {
     "data": {
      "image/png": "[encoded data removed]",
      "text/plain": [
       "<Figure size 864x144 with 1 Axes>"
      ]
     },
     "metadata": {
      "tags": []
     },
     "output_type": "display_data"
    }
   ],
   "source": [
    "difference=[x1 - x2 for (x1, x2) in zip(bloom_days,dj_all_by_day[0:-1])]\n",
    "adding = 0\n",
    "all_avg = []\n",
    "for count in range(len(difference)):\n",
    "  adding = adding+difference[count]\n",
    "  avg = adding/(count+1)\n",
    "  all_avg.append(avg)\n",
    "\n",
    "plt.subplots(figsize=(12, 2))\n",
    "plt.plot(allyears[0:-1],difference,'-ro', label= 'Duration')\n",
    "plt.plot(allyears[0:-1],all_avg,'--b',label= 'Avg Duration')\n",
    "plt.xlabel('All Years')\n",
    "plt.ylabel('Day')\n",
    "plt.ylim(0, 80)\n",
    "plt.title('Fig 4.2- Duration of Growth-phase for all Years', Fontsize = 12)\n",
    "plt.legend()\n",
    "plt.show()"
   ]
  },
  {
   "cell_type": "markdown",
   "metadata": {
    "colab_type": "text",
    "id": "wcqhg5JoQ1iI"
   },
   "source": [
    "<h3><p><u>Plotting average temperature of all years</u></p>"
   ]
  },
  {
   "cell_type": "code",
   "execution_count": 0,
   "metadata": {
    "colab": {
     "base_uri": "https://localhost:8080/",
     "height": 188
    },
    "colab_type": "code",
    "id": "3Fv5okCKQ8HL",
    "outputId": "6a8198c7-01ee-404c-840c-bbda9f539947"
   },
   "outputs": [
    {
     "data": {
      "image/png": "[encoded data removed]",
      "text/plain": [
       "<Figure size 864x144 with 1 Axes>"
      ]
     },
     "metadata": {
      "tags": []
     },
     "output_type": "display_data"
    }
   ],
   "source": [
    "adding = 0\n",
    "all_avg = []\n",
    "for count in range(len(avg_temp)):\n",
    "  adding = adding+avg_temp[count]\n",
    "  avg = adding/(count+1)\n",
    "  all_avg.append(avg)\n",
    "  \n",
    "plt.subplots(figsize=(12, 2))\n",
    "plt.plot(allyears[0:-1],avg_temp,'-ro',label= 'Avg Temp')\n",
    "plt.plot(allyears[0:-1],all_avg,'--b',label= 'Avg Temp mean')\n",
    "plt.xlabel('All Years')\n",
    "plt.ylabel('Temperature')\n",
    "plt.ylim(5, 12)\n",
    "plt.title('Fig 4.3- Average temperature of all years', Fontsize = 12) \n",
    "plt.legend()\n",
    "plt.show()"
   ]
  },
  {
   "cell_type": "markdown",
   "metadata": {
    "colab_type": "text",
    "id": "WH8HAxGRYSQK"
   },
   "source": [
    "<p>NB- The Average Temperatures  in this plot are calculated for the first four months of each year. The reason is that these months have the most significant impact on bloom-dates.<p>"
   ]
  },
  {
   "cell_type": "markdown",
   "metadata": {
    "colab_type": "text",
    "id": "rwmCVDUkSL2p"
   },
   "source": [
    "<h3><p><u>Plotting sea-pressure of all years</u></p>"
   ]
  },
  {
   "cell_type": "code",
   "execution_count": 0,
   "metadata": {
    "colab": {
     "base_uri": "https://localhost:8080/",
     "height": 188
    },
    "colab_type": "code",
    "id": "eeD0nOrpRDDC",
    "outputId": "50ab4438-1cfc-42c5-dd6f-0b7a286921f3"
   },
   "outputs": [
    {
     "data": {
      "image/png": "[encoded data removed]",
      "text/plain": [
       "<Figure size 864x144 with 1 Axes>"
      ]
     },
     "metadata": {
      "tags": []
     },
     "output_type": "display_data"
    }
   ],
   "source": [
    "adding = 0\n",
    "all_avg = []\n",
    "for count in range(len(sea_pressure)):\n",
    "  adding = adding+sea_pressure[count]\n",
    "  avg = adding/(count+1)\n",
    "  all_avg.append(avg)\n",
    "\n",
    "plt.subplots(figsize=(12, 2))\n",
    "plt.plot(allyears[0:-1],sea_pressure,'-ro',label='Pressure')\n",
    "plt.plot(allyears[0:-1],all_avg,'--b',label='Pressure mean')\n",
    "plt.xlabel('All Years')\n",
    "plt.ylabel('Pressure')\n",
    "plt.ylim(1010, 1020)\n",
    "plt.title('Fig 4.4- Sea-pressure of all years', Fontsize = 12)\n",
    "plt.legend()\n",
    "plt.show()"
   ]
  },
  {
   "cell_type": "markdown",
   "metadata": {
    "colab_type": "text",
    "id": "tpqT_pdvS24I"
   },
   "source": [
    "<h3><p><u>All Plot Discussions</u> <br></h3>\n",
    "<ul><u>01.</u> From the Graphs of 4.1 it is clear that the Hibernation Pattern has changed over the past 60 years. In recent years, the end of Hibernation taking place with a noticeable delay compared to the past years. The reason behind this might be the increase of average-temperature over the years (Fig. 4.3). Due of such increase in temperature of the first few months of recent years, The temperature: TF (Problem 2-1)  is rising and therefore increasing Dj value. So hibernation phase is delaying to end.</ul>\n",
    "<ul><u>02.</u> From Fig 4.1 it is also observed that BDJmean curve is gradually falling down over the years. That means the bloom is coming earlier in recent years. This phenomena is verified by the Graph of problem 1-1 as it tells that the Accumulated Max Temperature of hybernation phase has decreased over the years.</ul>\n",
    "<ul><u>03.</u> As hibernation is delaying to end but bloom is coming earlier, the duration of growth-period of sakura-buds is shrinking over the years (Fig. 4.2). From my assumption global warming might be a reason behind this. Due to global-warming average temperature is gradually rising (Fig 4.3) and spring is coming a bit earlier in every year and making Sakura-buds to bloom earlier than the previous years.</ul>\n",
    "<ul><u>04.</u>Though the average sea-pressure is found almost constant over the years, It is seen rising in very recent years (Fig. 4.4).Sea-pressure of recent years has merely dropped below the average-line. This may have impact on early-blooming </ul></p>"
   ]
  },
  {
   "cell_type": "code",
   "execution_count": 0,
   "metadata": {
    "colab": {},
    "colab_type": "code",
    "collapsed": true,
    "id": "X1AfqkGoAtNf"
   },
   "outputs": [],
   "source": []
  }
 ],
 "metadata": {
  "colab": {
   "collapsed_sections": [],
   "name": " Sakura_Assignmen_Final_1.ipynb",
   "provenance": [],
   "version": "0.3.2"
  },
  "kernelspec": {
   "display_name": "Python 3",
   "language": "python",
   "name": "python3"
  },
  "language_info": {
   "codemirror_mode": {
    "name": "ipython",
    "version": 3
   },
   "file_extension": ".py",
   "mimetype": "text/x-python",
   "name": "python",
   "nbconvert_exporter": "python",
   "pygments_lexer": "ipython3",
   "version": "3.6.3"
  }
 },
 "nbformat": 4,
 "nbformat_minor": 1
}
